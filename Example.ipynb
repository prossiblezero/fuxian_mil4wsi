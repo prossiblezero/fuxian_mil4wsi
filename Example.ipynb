{
  "cells": [
    {
      "cell_type": "code",
      "execution_count": null,
      "metadata": {
        "cellView": "form",
        "collapsed": true,
        "id": "nT-8ebdcmy3w"
      },
      "outputs": [],
      "source": [
        "# @title Download Camelyon16 embeddings\n",
        "!curl -o dataset.zip https://ailb-web.ing.unimore.it/publicfiles/miccai_dasmil_checkpoints/cam_feats.zip\n",
        "!unzip dataset.zip"
      ]
    },
    {
      "cell_type": "code",
      "execution_count": 1,
      "metadata": {
        "cellView": "form",
        "id": "aLAzr4Lgq8qV"
      },
      "outputs": [
        {
          "name": "stdout",
          "output_type": "stream",
          "text": [
            "2.5.1+cu118\n"
          ]
        }
      ],
      "source": [
        "# @title Prepare Environment\n",
        "import torch\n",
        "import os\n",
        "os.environ['TORCH'] = torch.__version__\n",
        "print(torch.__version__)\n",
        "\n",
        "# !pip install -q torch-scatter -f https://data.pyg.org/whl/torch-${TORCH}.html\n",
        "# !pip install -q torch-sparse -f https://data.pyg.org/whl/torch-${TORCH}.html\n",
        "# !pip install -q git+https://github.com/pyg-team/pytorch_geometric.git\n",
        "# !pip install nystrom-attention\n",
        "# !git clone https://github.com/aimagelab/mil4wsi.git\n",
        "# !cd mil4wsi"
      ]
    },
    {
      "cell_type": "code",
      "execution_count": 2,
      "metadata": {
        "cellView": "form",
        "id": "u_vvp7czG1RM"
      },
      "outputs": [],
      "source": [
        "# @title Load Libraries\n",
        "from torch_geometric.data import Dataset\n",
        "import glob\n",
        "from torch_geometric.data import data\n",
        "from torch_geometric.loader import DataLoader\n",
        "import sys\n",
        "sys.path.append(\"/content/mil4wsi\")\n",
        "from utilsmil4wsi.test import test\n",
        "import argparse\n",
        "from models import selectModel\n",
        "import wandb\n",
        "from torch.nn import BCEWithLogitsLoss\n",
        "import torch\n",
        "import os\n",
        "import wandb\n",
        "from argparse import Namespace\n",
        "import time\n",
        "import tqdm"
      ]
    },
    {
      "cell_type": "code",
      "execution_count": 16,
      "metadata": {
        "id": "V9jrhrVRnvQF"
      },
      "outputs": [],
      "source": [
        "data_root=\"D:/postgraduate/dataset/mil4wsi-main/lungGraph_13/processed\""
      ]
    },
    {
      "cell_type": "code",
      "execution_count": 9,
      "metadata": {},
      "outputs": [
        {
          "name": "stdout",
          "output_type": "stream",
          "text": [
            "['pre_filter.pt', 'pre_transform.pt', 'test', 'train']\n"
          ]
        }
      ],
      "source": [
        "import os\n",
        "\n",
        "print(os.listdir(data_root))  # 查看路径是否有数据文件\n"
      ]
    },
    {
      "cell_type": "code",
      "execution_count": 17,
      "metadata": {
        "cellView": "form",
        "id": "wzRsNcLqnnTm"
      },
      "outputs": [
        {
          "name": "stdout",
          "output_type": "stream",
          "text": [
            "['D:/postgraduate/dataset/mil4wsi-main/lungGraph_13/processed\\\\train\\\\data_1.pt', 'D:/postgraduate/dataset/mil4wsi-main/lungGraph_13/processed\\\\train\\\\data_10.pt', 'D:/postgraduate/dataset/mil4wsi-main/lungGraph_13/processed\\\\train\\\\data_100.pt', 'D:/postgraduate/dataset/mil4wsi-main/lungGraph_13/processed\\\\train\\\\data_1000.pt', 'D:/postgraduate/dataset/mil4wsi-main/lungGraph_13/processed\\\\train\\\\data_1001.pt', 'D:/postgraduate/dataset/mil4wsi-main/lungGraph_13/processed\\\\train\\\\data_1002.pt', 'D:/postgraduate/dataset/mil4wsi-main/lungGraph_13/processed\\\\train\\\\data_1004.pt', 'D:/postgraduate/dataset/mil4wsi-main/lungGraph_13/processed\\\\train\\\\data_1005.pt', 'D:/postgraduate/dataset/mil4wsi-main/lungGraph_13/processed\\\\train\\\\data_1006.pt', 'D:/postgraduate/dataset/mil4wsi-main/lungGraph_13/processed\\\\train\\\\data_1008.pt', 'D:/postgraduate/dataset/mil4wsi-main/lungGraph_13/processed\\\\train\\\\data_1009.pt', 'D:/postgraduate/dataset/mil4wsi-main/lungGraph_13/processed\\\\train\\\\data_101.pt', 'D:/postgraduate/dataset/mil4wsi-main/lungGraph_13/processed\\\\train\\\\data_1011.pt', 'D:/postgraduate/dataset/mil4wsi-main/lungGraph_13/processed\\\\train\\\\data_1012.pt', 'D:/postgraduate/dataset/mil4wsi-main/lungGraph_13/processed\\\\train\\\\data_1013.pt', 'D:/postgraduate/dataset/mil4wsi-main/lungGraph_13/processed\\\\train\\\\data_1014.pt', 'D:/postgraduate/dataset/mil4wsi-main/lungGraph_13/processed\\\\train\\\\data_1015.pt', 'D:/postgraduate/dataset/mil4wsi-main/lungGraph_13/processed\\\\train\\\\data_1016.pt', 'D:/postgraduate/dataset/mil4wsi-main/lungGraph_13/processed\\\\train\\\\data_1017.pt', 'D:/postgraduate/dataset/mil4wsi-main/lungGraph_13/processed\\\\train\\\\data_1018.pt', 'D:/postgraduate/dataset/mil4wsi-main/lungGraph_13/processed\\\\train\\\\data_1019.pt', 'D:/postgraduate/dataset/mil4wsi-main/lungGraph_13/processed\\\\train\\\\data_102.pt', 'D:/postgraduate/dataset/mil4wsi-main/lungGraph_13/processed\\\\train\\\\data_1020.pt', 'D:/postgraduate/dataset/mil4wsi-main/lungGraph_13/processed\\\\train\\\\data_1021.pt', 'D:/postgraduate/dataset/mil4wsi-main/lungGraph_13/processed\\\\train\\\\data_1022.pt', 'D:/postgraduate/dataset/mil4wsi-main/lungGraph_13/processed\\\\train\\\\data_1024.pt', 'D:/postgraduate/dataset/mil4wsi-main/lungGraph_13/processed\\\\train\\\\data_1026.pt', 'D:/postgraduate/dataset/mil4wsi-main/lungGraph_13/processed\\\\train\\\\data_1028.pt', 'D:/postgraduate/dataset/mil4wsi-main/lungGraph_13/processed\\\\train\\\\data_1029.pt', 'D:/postgraduate/dataset/mil4wsi-main/lungGraph_13/processed\\\\train\\\\data_103.pt', 'D:/postgraduate/dataset/mil4wsi-main/lungGraph_13/processed\\\\train\\\\data_1030.pt', 'D:/postgraduate/dataset/mil4wsi-main/lungGraph_13/processed\\\\train\\\\data_1031.pt', 'D:/postgraduate/dataset/mil4wsi-main/lungGraph_13/processed\\\\train\\\\data_1033.pt', 'D:/postgraduate/dataset/mil4wsi-main/lungGraph_13/processed\\\\train\\\\data_1034.pt', 'D:/postgraduate/dataset/mil4wsi-main/lungGraph_13/processed\\\\train\\\\data_1036.pt', 'D:/postgraduate/dataset/mil4wsi-main/lungGraph_13/processed\\\\train\\\\data_1039.pt', 'D:/postgraduate/dataset/mil4wsi-main/lungGraph_13/processed\\\\train\\\\data_104.pt', 'D:/postgraduate/dataset/mil4wsi-main/lungGraph_13/processed\\\\train\\\\data_1040.pt', 'D:/postgraduate/dataset/mil4wsi-main/lungGraph_13/processed\\\\train\\\\data_106.pt', 'D:/postgraduate/dataset/mil4wsi-main/lungGraph_13/processed\\\\train\\\\data_107.pt', 'D:/postgraduate/dataset/mil4wsi-main/lungGraph_13/processed\\\\train\\\\data_108.pt', 'D:/postgraduate/dataset/mil4wsi-main/lungGraph_13/processed\\\\train\\\\data_109.pt', 'D:/postgraduate/dataset/mil4wsi-main/lungGraph_13/processed\\\\train\\\\data_11.pt', 'D:/postgraduate/dataset/mil4wsi-main/lungGraph_13/processed\\\\train\\\\data_110.pt', 'D:/postgraduate/dataset/mil4wsi-main/lungGraph_13/processed\\\\train\\\\data_111.pt', 'D:/postgraduate/dataset/mil4wsi-main/lungGraph_13/processed\\\\train\\\\data_112.pt', 'D:/postgraduate/dataset/mil4wsi-main/lungGraph_13/processed\\\\train\\\\data_113.pt', 'D:/postgraduate/dataset/mil4wsi-main/lungGraph_13/processed\\\\train\\\\data_115.pt', 'D:/postgraduate/dataset/mil4wsi-main/lungGraph_13/processed\\\\train\\\\data_116.pt', 'D:/postgraduate/dataset/mil4wsi-main/lungGraph_13/processed\\\\train\\\\data_117.pt', 'D:/postgraduate/dataset/mil4wsi-main/lungGraph_13/processed\\\\train\\\\data_120.pt', 'D:/postgraduate/dataset/mil4wsi-main/lungGraph_13/processed\\\\train\\\\data_121.pt', 'D:/postgraduate/dataset/mil4wsi-main/lungGraph_13/processed\\\\train\\\\data_122.pt', 'D:/postgraduate/dataset/mil4wsi-main/lungGraph_13/processed\\\\train\\\\data_124.pt', 'D:/postgraduate/dataset/mil4wsi-main/lungGraph_13/processed\\\\train\\\\data_125.pt', 'D:/postgraduate/dataset/mil4wsi-main/lungGraph_13/processed\\\\train\\\\data_127.pt', 'D:/postgraduate/dataset/mil4wsi-main/lungGraph_13/processed\\\\train\\\\data_13.pt', 'D:/postgraduate/dataset/mil4wsi-main/lungGraph_13/processed\\\\train\\\\data_130.pt', 'D:/postgraduate/dataset/mil4wsi-main/lungGraph_13/processed\\\\train\\\\data_131.pt', 'D:/postgraduate/dataset/mil4wsi-main/lungGraph_13/processed\\\\train\\\\data_132.pt', 'D:/postgraduate/dataset/mil4wsi-main/lungGraph_13/processed\\\\train\\\\data_134.pt', 'D:/postgraduate/dataset/mil4wsi-main/lungGraph_13/processed\\\\train\\\\data_135.pt', 'D:/postgraduate/dataset/mil4wsi-main/lungGraph_13/processed\\\\train\\\\data_136.pt', 'D:/postgraduate/dataset/mil4wsi-main/lungGraph_13/processed\\\\train\\\\data_137.pt', 'D:/postgraduate/dataset/mil4wsi-main/lungGraph_13/processed\\\\train\\\\data_138.pt', 'D:/postgraduate/dataset/mil4wsi-main/lungGraph_13/processed\\\\train\\\\data_139.pt', 'D:/postgraduate/dataset/mil4wsi-main/lungGraph_13/processed\\\\train\\\\data_14.pt', 'D:/postgraduate/dataset/mil4wsi-main/lungGraph_13/processed\\\\train\\\\data_140.pt', 'D:/postgraduate/dataset/mil4wsi-main/lungGraph_13/processed\\\\train\\\\data_141.pt', 'D:/postgraduate/dataset/mil4wsi-main/lungGraph_13/processed\\\\train\\\\data_142.pt', 'D:/postgraduate/dataset/mil4wsi-main/lungGraph_13/processed\\\\train\\\\data_143.pt', 'D:/postgraduate/dataset/mil4wsi-main/lungGraph_13/processed\\\\train\\\\data_144.pt', 'D:/postgraduate/dataset/mil4wsi-main/lungGraph_13/processed\\\\train\\\\data_145.pt', 'D:/postgraduate/dataset/mil4wsi-main/lungGraph_13/processed\\\\train\\\\data_147.pt', 'D:/postgraduate/dataset/mil4wsi-main/lungGraph_13/processed\\\\train\\\\data_149.pt', 'D:/postgraduate/dataset/mil4wsi-main/lungGraph_13/processed\\\\train\\\\data_151.pt', 'D:/postgraduate/dataset/mil4wsi-main/lungGraph_13/processed\\\\train\\\\data_152.pt', 'D:/postgraduate/dataset/mil4wsi-main/lungGraph_13/processed\\\\train\\\\data_153.pt', 'D:/postgraduate/dataset/mil4wsi-main/lungGraph_13/processed\\\\train\\\\data_154.pt', 'D:/postgraduate/dataset/mil4wsi-main/lungGraph_13/processed\\\\train\\\\data_155.pt', 'D:/postgraduate/dataset/mil4wsi-main/lungGraph_13/processed\\\\train\\\\data_156.pt', 'D:/postgraduate/dataset/mil4wsi-main/lungGraph_13/processed\\\\train\\\\data_157.pt', 'D:/postgraduate/dataset/mil4wsi-main/lungGraph_13/processed\\\\train\\\\data_158.pt', 'D:/postgraduate/dataset/mil4wsi-main/lungGraph_13/processed\\\\train\\\\data_159.pt', 'D:/postgraduate/dataset/mil4wsi-main/lungGraph_13/processed\\\\train\\\\data_16.pt', 'D:/postgraduate/dataset/mil4wsi-main/lungGraph_13/processed\\\\train\\\\data_160.pt', 'D:/postgraduate/dataset/mil4wsi-main/lungGraph_13/processed\\\\train\\\\data_161.pt', 'D:/postgraduate/dataset/mil4wsi-main/lungGraph_13/processed\\\\train\\\\data_162.pt', 'D:/postgraduate/dataset/mil4wsi-main/lungGraph_13/processed\\\\train\\\\data_164.pt', 'D:/postgraduate/dataset/mil4wsi-main/lungGraph_13/processed\\\\train\\\\data_165.pt', 'D:/postgraduate/dataset/mil4wsi-main/lungGraph_13/processed\\\\train\\\\data_166.pt', 'D:/postgraduate/dataset/mil4wsi-main/lungGraph_13/processed\\\\train\\\\data_167.pt', 'D:/postgraduate/dataset/mil4wsi-main/lungGraph_13/processed\\\\train\\\\data_168.pt', 'D:/postgraduate/dataset/mil4wsi-main/lungGraph_13/processed\\\\train\\\\data_169.pt', 'D:/postgraduate/dataset/mil4wsi-main/lungGraph_13/processed\\\\train\\\\data_17.pt', 'D:/postgraduate/dataset/mil4wsi-main/lungGraph_13/processed\\\\train\\\\data_170.pt', 'D:/postgraduate/dataset/mil4wsi-main/lungGraph_13/processed\\\\train\\\\data_171.pt', 'D:/postgraduate/dataset/mil4wsi-main/lungGraph_13/processed\\\\train\\\\data_172.pt', 'D:/postgraduate/dataset/mil4wsi-main/lungGraph_13/processed\\\\train\\\\data_173.pt', 'D:/postgraduate/dataset/mil4wsi-main/lungGraph_13/processed\\\\train\\\\data_174.pt', 'D:/postgraduate/dataset/mil4wsi-main/lungGraph_13/processed\\\\train\\\\data_175.pt', 'D:/postgraduate/dataset/mil4wsi-main/lungGraph_13/processed\\\\train\\\\data_176.pt', 'D:/postgraduate/dataset/mil4wsi-main/lungGraph_13/processed\\\\train\\\\data_177.pt', 'D:/postgraduate/dataset/mil4wsi-main/lungGraph_13/processed\\\\train\\\\data_178.pt', 'D:/postgraduate/dataset/mil4wsi-main/lungGraph_13/processed\\\\train\\\\data_179.pt', 'D:/postgraduate/dataset/mil4wsi-main/lungGraph_13/processed\\\\train\\\\data_18.pt', 'D:/postgraduate/dataset/mil4wsi-main/lungGraph_13/processed\\\\train\\\\data_180.pt', 'D:/postgraduate/dataset/mil4wsi-main/lungGraph_13/processed\\\\train\\\\data_181.pt', 'D:/postgraduate/dataset/mil4wsi-main/lungGraph_13/processed\\\\train\\\\data_182.pt', 'D:/postgraduate/dataset/mil4wsi-main/lungGraph_13/processed\\\\train\\\\data_183.pt', 'D:/postgraduate/dataset/mil4wsi-main/lungGraph_13/processed\\\\train\\\\data_184.pt', 'D:/postgraduate/dataset/mil4wsi-main/lungGraph_13/processed\\\\train\\\\data_186.pt', 'D:/postgraduate/dataset/mil4wsi-main/lungGraph_13/processed\\\\train\\\\data_187.pt', 'D:/postgraduate/dataset/mil4wsi-main/lungGraph_13/processed\\\\train\\\\data_188.pt', 'D:/postgraduate/dataset/mil4wsi-main/lungGraph_13/processed\\\\train\\\\data_189.pt', 'D:/postgraduate/dataset/mil4wsi-main/lungGraph_13/processed\\\\train\\\\data_19.pt', 'D:/postgraduate/dataset/mil4wsi-main/lungGraph_13/processed\\\\train\\\\data_190.pt', 'D:/postgraduate/dataset/mil4wsi-main/lungGraph_13/processed\\\\train\\\\data_191.pt', 'D:/postgraduate/dataset/mil4wsi-main/lungGraph_13/processed\\\\train\\\\data_192.pt', 'D:/postgraduate/dataset/mil4wsi-main/lungGraph_13/processed\\\\train\\\\data_193.pt', 'D:/postgraduate/dataset/mil4wsi-main/lungGraph_13/processed\\\\train\\\\data_194.pt', 'D:/postgraduate/dataset/mil4wsi-main/lungGraph_13/processed\\\\train\\\\data_195.pt', 'D:/postgraduate/dataset/mil4wsi-main/lungGraph_13/processed\\\\train\\\\data_196.pt', 'D:/postgraduate/dataset/mil4wsi-main/lungGraph_13/processed\\\\train\\\\data_197.pt', 'D:/postgraduate/dataset/mil4wsi-main/lungGraph_13/processed\\\\train\\\\data_198.pt', 'D:/postgraduate/dataset/mil4wsi-main/lungGraph_13/processed\\\\train\\\\data_199.pt', 'D:/postgraduate/dataset/mil4wsi-main/lungGraph_13/processed\\\\train\\\\data_2.pt', 'D:/postgraduate/dataset/mil4wsi-main/lungGraph_13/processed\\\\train\\\\data_20.pt', 'D:/postgraduate/dataset/mil4wsi-main/lungGraph_13/processed\\\\train\\\\data_200.pt', 'D:/postgraduate/dataset/mil4wsi-main/lungGraph_13/processed\\\\train\\\\data_202.pt', 'D:/postgraduate/dataset/mil4wsi-main/lungGraph_13/processed\\\\train\\\\data_203.pt', 'D:/postgraduate/dataset/mil4wsi-main/lungGraph_13/processed\\\\train\\\\data_204.pt', 'D:/postgraduate/dataset/mil4wsi-main/lungGraph_13/processed\\\\train\\\\data_205.pt', 'D:/postgraduate/dataset/mil4wsi-main/lungGraph_13/processed\\\\train\\\\data_206.pt', 'D:/postgraduate/dataset/mil4wsi-main/lungGraph_13/processed\\\\train\\\\data_207.pt', 'D:/postgraduate/dataset/mil4wsi-main/lungGraph_13/processed\\\\train\\\\data_208.pt', 'D:/postgraduate/dataset/mil4wsi-main/lungGraph_13/processed\\\\train\\\\data_209.pt', 'D:/postgraduate/dataset/mil4wsi-main/lungGraph_13/processed\\\\train\\\\data_21.pt', 'D:/postgraduate/dataset/mil4wsi-main/lungGraph_13/processed\\\\train\\\\data_211.pt', 'D:/postgraduate/dataset/mil4wsi-main/lungGraph_13/processed\\\\train\\\\data_212.pt', 'D:/postgraduate/dataset/mil4wsi-main/lungGraph_13/processed\\\\train\\\\data_213.pt', 'D:/postgraduate/dataset/mil4wsi-main/lungGraph_13/processed\\\\train\\\\data_214.pt', 'D:/postgraduate/dataset/mil4wsi-main/lungGraph_13/processed\\\\train\\\\data_215.pt', 'D:/postgraduate/dataset/mil4wsi-main/lungGraph_13/processed\\\\train\\\\data_216.pt', 'D:/postgraduate/dataset/mil4wsi-main/lungGraph_13/processed\\\\train\\\\data_217.pt', 'D:/postgraduate/dataset/mil4wsi-main/lungGraph_13/processed\\\\train\\\\data_219.pt', 'D:/postgraduate/dataset/mil4wsi-main/lungGraph_13/processed\\\\train\\\\data_220.pt', 'D:/postgraduate/dataset/mil4wsi-main/lungGraph_13/processed\\\\train\\\\data_221.pt', 'D:/postgraduate/dataset/mil4wsi-main/lungGraph_13/processed\\\\train\\\\data_222.pt', 'D:/postgraduate/dataset/mil4wsi-main/lungGraph_13/processed\\\\train\\\\data_223.pt', 'D:/postgraduate/dataset/mil4wsi-main/lungGraph_13/processed\\\\train\\\\data_224.pt', 'D:/postgraduate/dataset/mil4wsi-main/lungGraph_13/processed\\\\train\\\\data_225.pt', 'D:/postgraduate/dataset/mil4wsi-main/lungGraph_13/processed\\\\train\\\\data_228.pt', 'D:/postgraduate/dataset/mil4wsi-main/lungGraph_13/processed\\\\train\\\\data_229.pt', 'D:/postgraduate/dataset/mil4wsi-main/lungGraph_13/processed\\\\train\\\\data_230.pt', 'D:/postgraduate/dataset/mil4wsi-main/lungGraph_13/processed\\\\train\\\\data_231.pt', 'D:/postgraduate/dataset/mil4wsi-main/lungGraph_13/processed\\\\train\\\\data_232.pt', 'D:/postgraduate/dataset/mil4wsi-main/lungGraph_13/processed\\\\train\\\\data_233.pt', 'D:/postgraduate/dataset/mil4wsi-main/lungGraph_13/processed\\\\train\\\\data_235.pt', 'D:/postgraduate/dataset/mil4wsi-main/lungGraph_13/processed\\\\train\\\\data_236.pt', 'D:/postgraduate/dataset/mil4wsi-main/lungGraph_13/processed\\\\train\\\\data_237.pt', 'D:/postgraduate/dataset/mil4wsi-main/lungGraph_13/processed\\\\train\\\\data_238.pt', 'D:/postgraduate/dataset/mil4wsi-main/lungGraph_13/processed\\\\train\\\\data_239.pt', 'D:/postgraduate/dataset/mil4wsi-main/lungGraph_13/processed\\\\train\\\\data_24.pt', 'D:/postgraduate/dataset/mil4wsi-main/lungGraph_13/processed\\\\train\\\\data_240.pt', 'D:/postgraduate/dataset/mil4wsi-main/lungGraph_13/processed\\\\train\\\\data_241.pt', 'D:/postgraduate/dataset/mil4wsi-main/lungGraph_13/processed\\\\train\\\\data_242.pt', 'D:/postgraduate/dataset/mil4wsi-main/lungGraph_13/processed\\\\train\\\\data_244.pt', 'D:/postgraduate/dataset/mil4wsi-main/lungGraph_13/processed\\\\train\\\\data_245.pt', 'D:/postgraduate/dataset/mil4wsi-main/lungGraph_13/processed\\\\train\\\\data_246.pt', 'D:/postgraduate/dataset/mil4wsi-main/lungGraph_13/processed\\\\train\\\\data_247.pt', 'D:/postgraduate/dataset/mil4wsi-main/lungGraph_13/processed\\\\train\\\\data_248.pt', 'D:/postgraduate/dataset/mil4wsi-main/lungGraph_13/processed\\\\train\\\\data_249.pt', 'D:/postgraduate/dataset/mil4wsi-main/lungGraph_13/processed\\\\train\\\\data_25.pt', 'D:/postgraduate/dataset/mil4wsi-main/lungGraph_13/processed\\\\train\\\\data_250.pt', 'D:/postgraduate/dataset/mil4wsi-main/lungGraph_13/processed\\\\train\\\\data_251.pt', 'D:/postgraduate/dataset/mil4wsi-main/lungGraph_13/processed\\\\train\\\\data_252.pt', 'D:/postgraduate/dataset/mil4wsi-main/lungGraph_13/processed\\\\train\\\\data_253.pt', 'D:/postgraduate/dataset/mil4wsi-main/lungGraph_13/processed\\\\train\\\\data_254.pt', 'D:/postgraduate/dataset/mil4wsi-main/lungGraph_13/processed\\\\train\\\\data_255.pt', 'D:/postgraduate/dataset/mil4wsi-main/lungGraph_13/processed\\\\train\\\\data_256.pt', 'D:/postgraduate/dataset/mil4wsi-main/lungGraph_13/processed\\\\train\\\\data_257.pt', 'D:/postgraduate/dataset/mil4wsi-main/lungGraph_13/processed\\\\train\\\\data_258.pt', 'D:/postgraduate/dataset/mil4wsi-main/lungGraph_13/processed\\\\train\\\\data_260.pt', 'D:/postgraduate/dataset/mil4wsi-main/lungGraph_13/processed\\\\train\\\\data_264.pt', 'D:/postgraduate/dataset/mil4wsi-main/lungGraph_13/processed\\\\train\\\\data_265.pt', 'D:/postgraduate/dataset/mil4wsi-main/lungGraph_13/processed\\\\train\\\\data_266.pt', 'D:/postgraduate/dataset/mil4wsi-main/lungGraph_13/processed\\\\train\\\\data_268.pt', 'D:/postgraduate/dataset/mil4wsi-main/lungGraph_13/processed\\\\train\\\\data_269.pt', 'D:/postgraduate/dataset/mil4wsi-main/lungGraph_13/processed\\\\train\\\\data_27.pt', 'D:/postgraduate/dataset/mil4wsi-main/lungGraph_13/processed\\\\train\\\\data_271.pt', 'D:/postgraduate/dataset/mil4wsi-main/lungGraph_13/processed\\\\train\\\\data_272.pt', 'D:/postgraduate/dataset/mil4wsi-main/lungGraph_13/processed\\\\train\\\\data_273.pt', 'D:/postgraduate/dataset/mil4wsi-main/lungGraph_13/processed\\\\train\\\\data_274.pt', 'D:/postgraduate/dataset/mil4wsi-main/lungGraph_13/processed\\\\train\\\\data_275.pt', 'D:/postgraduate/dataset/mil4wsi-main/lungGraph_13/processed\\\\train\\\\data_276.pt', 'D:/postgraduate/dataset/mil4wsi-main/lungGraph_13/processed\\\\train\\\\data_277.pt', 'D:/postgraduate/dataset/mil4wsi-main/lungGraph_13/processed\\\\train\\\\data_279.pt', 'D:/postgraduate/dataset/mil4wsi-main/lungGraph_13/processed\\\\train\\\\data_280.pt', 'D:/postgraduate/dataset/mil4wsi-main/lungGraph_13/processed\\\\train\\\\data_281.pt', 'D:/postgraduate/dataset/mil4wsi-main/lungGraph_13/processed\\\\train\\\\data_282.pt', 'D:/postgraduate/dataset/mil4wsi-main/lungGraph_13/processed\\\\train\\\\data_283.pt', 'D:/postgraduate/dataset/mil4wsi-main/lungGraph_13/processed\\\\train\\\\data_284.pt', 'D:/postgraduate/dataset/mil4wsi-main/lungGraph_13/processed\\\\train\\\\data_286.pt', 'D:/postgraduate/dataset/mil4wsi-main/lungGraph_13/processed\\\\train\\\\data_287.pt', 'D:/postgraduate/dataset/mil4wsi-main/lungGraph_13/processed\\\\train\\\\data_288.pt', 'D:/postgraduate/dataset/mil4wsi-main/lungGraph_13/processed\\\\train\\\\data_289.pt', 'D:/postgraduate/dataset/mil4wsi-main/lungGraph_13/processed\\\\train\\\\data_29.pt', 'D:/postgraduate/dataset/mil4wsi-main/lungGraph_13/processed\\\\train\\\\data_291.pt', 'D:/postgraduate/dataset/mil4wsi-main/lungGraph_13/processed\\\\train\\\\data_294.pt', 'D:/postgraduate/dataset/mil4wsi-main/lungGraph_13/processed\\\\train\\\\data_295.pt', 'D:/postgraduate/dataset/mil4wsi-main/lungGraph_13/processed\\\\train\\\\data_296.pt', 'D:/postgraduate/dataset/mil4wsi-main/lungGraph_13/processed\\\\train\\\\data_297.pt', 'D:/postgraduate/dataset/mil4wsi-main/lungGraph_13/processed\\\\train\\\\data_3.pt', 'D:/postgraduate/dataset/mil4wsi-main/lungGraph_13/processed\\\\train\\\\data_30.pt', 'D:/postgraduate/dataset/mil4wsi-main/lungGraph_13/processed\\\\train\\\\data_300.pt', 'D:/postgraduate/dataset/mil4wsi-main/lungGraph_13/processed\\\\train\\\\data_301.pt', 'D:/postgraduate/dataset/mil4wsi-main/lungGraph_13/processed\\\\train\\\\data_302.pt', 'D:/postgraduate/dataset/mil4wsi-main/lungGraph_13/processed\\\\train\\\\data_303.pt', 'D:/postgraduate/dataset/mil4wsi-main/lungGraph_13/processed\\\\train\\\\data_304.pt', 'D:/postgraduate/dataset/mil4wsi-main/lungGraph_13/processed\\\\train\\\\data_305.pt', 'D:/postgraduate/dataset/mil4wsi-main/lungGraph_13/processed\\\\train\\\\data_307.pt', 'D:/postgraduate/dataset/mil4wsi-main/lungGraph_13/processed\\\\train\\\\data_308.pt', 'D:/postgraduate/dataset/mil4wsi-main/lungGraph_13/processed\\\\train\\\\data_309.pt', 'D:/postgraduate/dataset/mil4wsi-main/lungGraph_13/processed\\\\train\\\\data_311.pt', 'D:/postgraduate/dataset/mil4wsi-main/lungGraph_13/processed\\\\train\\\\data_312.pt', 'D:/postgraduate/dataset/mil4wsi-main/lungGraph_13/processed\\\\train\\\\data_314.pt', 'D:/postgraduate/dataset/mil4wsi-main/lungGraph_13/processed\\\\train\\\\data_316.pt', 'D:/postgraduate/dataset/mil4wsi-main/lungGraph_13/processed\\\\train\\\\data_317.pt', 'D:/postgraduate/dataset/mil4wsi-main/lungGraph_13/processed\\\\train\\\\data_318.pt', 'D:/postgraduate/dataset/mil4wsi-main/lungGraph_13/processed\\\\train\\\\data_319.pt', 'D:/postgraduate/dataset/mil4wsi-main/lungGraph_13/processed\\\\train\\\\data_32.pt', 'D:/postgraduate/dataset/mil4wsi-main/lungGraph_13/processed\\\\train\\\\data_320.pt', 'D:/postgraduate/dataset/mil4wsi-main/lungGraph_13/processed\\\\train\\\\data_321.pt', 'D:/postgraduate/dataset/mil4wsi-main/lungGraph_13/processed\\\\train\\\\data_322.pt', 'D:/postgraduate/dataset/mil4wsi-main/lungGraph_13/processed\\\\train\\\\data_324.pt', 'D:/postgraduate/dataset/mil4wsi-main/lungGraph_13/processed\\\\train\\\\data_326.pt', 'D:/postgraduate/dataset/mil4wsi-main/lungGraph_13/processed\\\\train\\\\data_327.pt', 'D:/postgraduate/dataset/mil4wsi-main/lungGraph_13/processed\\\\train\\\\data_328.pt', 'D:/postgraduate/dataset/mil4wsi-main/lungGraph_13/processed\\\\train\\\\data_329.pt', 'D:/postgraduate/dataset/mil4wsi-main/lungGraph_13/processed\\\\train\\\\data_33.pt', 'D:/postgraduate/dataset/mil4wsi-main/lungGraph_13/processed\\\\train\\\\data_330.pt', 'D:/postgraduate/dataset/mil4wsi-main/lungGraph_13/processed\\\\train\\\\data_331.pt', 'D:/postgraduate/dataset/mil4wsi-main/lungGraph_13/processed\\\\train\\\\data_332.pt', 'D:/postgraduate/dataset/mil4wsi-main/lungGraph_13/processed\\\\train\\\\data_333.pt', 'D:/postgraduate/dataset/mil4wsi-main/lungGraph_13/processed\\\\train\\\\data_334.pt', 'D:/postgraduate/dataset/mil4wsi-main/lungGraph_13/processed\\\\train\\\\data_335.pt', 'D:/postgraduate/dataset/mil4wsi-main/lungGraph_13/processed\\\\train\\\\data_336.pt', 'D:/postgraduate/dataset/mil4wsi-main/lungGraph_13/processed\\\\train\\\\data_337.pt', 'D:/postgraduate/dataset/mil4wsi-main/lungGraph_13/processed\\\\train\\\\data_339.pt', 'D:/postgraduate/dataset/mil4wsi-main/lungGraph_13/processed\\\\train\\\\data_34.pt', 'D:/postgraduate/dataset/mil4wsi-main/lungGraph_13/processed\\\\train\\\\data_340.pt', 'D:/postgraduate/dataset/mil4wsi-main/lungGraph_13/processed\\\\train\\\\data_341.pt', 'D:/postgraduate/dataset/mil4wsi-main/lungGraph_13/processed\\\\train\\\\data_343.pt', 'D:/postgraduate/dataset/mil4wsi-main/lungGraph_13/processed\\\\train\\\\data_344.pt', 'D:/postgraduate/dataset/mil4wsi-main/lungGraph_13/processed\\\\train\\\\data_345.pt', 'D:/postgraduate/dataset/mil4wsi-main/lungGraph_13/processed\\\\train\\\\data_346.pt', 'D:/postgraduate/dataset/mil4wsi-main/lungGraph_13/processed\\\\train\\\\data_347.pt', 'D:/postgraduate/dataset/mil4wsi-main/lungGraph_13/processed\\\\train\\\\data_348.pt', 'D:/postgraduate/dataset/mil4wsi-main/lungGraph_13/processed\\\\train\\\\data_349.pt', 'D:/postgraduate/dataset/mil4wsi-main/lungGraph_13/processed\\\\train\\\\data_350.pt', 'D:/postgraduate/dataset/mil4wsi-main/lungGraph_13/processed\\\\train\\\\data_352.pt', 'D:/postgraduate/dataset/mil4wsi-main/lungGraph_13/processed\\\\train\\\\data_353.pt', 'D:/postgraduate/dataset/mil4wsi-main/lungGraph_13/processed\\\\train\\\\data_354.pt', 'D:/postgraduate/dataset/mil4wsi-main/lungGraph_13/processed\\\\train\\\\data_356.pt', 'D:/postgraduate/dataset/mil4wsi-main/lungGraph_13/processed\\\\train\\\\data_358.pt', 'D:/postgraduate/dataset/mil4wsi-main/lungGraph_13/processed\\\\train\\\\data_359.pt', 'D:/postgraduate/dataset/mil4wsi-main/lungGraph_13/processed\\\\train\\\\data_360.pt', 'D:/postgraduate/dataset/mil4wsi-main/lungGraph_13/processed\\\\train\\\\data_362.pt', 'D:/postgraduate/dataset/mil4wsi-main/lungGraph_13/processed\\\\train\\\\data_363.pt', 'D:/postgraduate/dataset/mil4wsi-main/lungGraph_13/processed\\\\train\\\\data_364.pt', 'D:/postgraduate/dataset/mil4wsi-main/lungGraph_13/processed\\\\train\\\\data_365.pt', 'D:/postgraduate/dataset/mil4wsi-main/lungGraph_13/processed\\\\train\\\\data_366.pt', 'D:/postgraduate/dataset/mil4wsi-main/lungGraph_13/processed\\\\train\\\\data_367.pt', 'D:/postgraduate/dataset/mil4wsi-main/lungGraph_13/processed\\\\train\\\\data_368.pt', 'D:/postgraduate/dataset/mil4wsi-main/lungGraph_13/processed\\\\train\\\\data_369.pt', 'D:/postgraduate/dataset/mil4wsi-main/lungGraph_13/processed\\\\train\\\\data_370.pt', 'D:/postgraduate/dataset/mil4wsi-main/lungGraph_13/processed\\\\train\\\\data_371.pt', 'D:/postgraduate/dataset/mil4wsi-main/lungGraph_13/processed\\\\train\\\\data_372.pt', 'D:/postgraduate/dataset/mil4wsi-main/lungGraph_13/processed\\\\train\\\\data_373.pt', 'D:/postgraduate/dataset/mil4wsi-main/lungGraph_13/processed\\\\train\\\\data_374.pt', 'D:/postgraduate/dataset/mil4wsi-main/lungGraph_13/processed\\\\train\\\\data_376.pt', 'D:/postgraduate/dataset/mil4wsi-main/lungGraph_13/processed\\\\train\\\\data_377.pt', 'D:/postgraduate/dataset/mil4wsi-main/lungGraph_13/processed\\\\train\\\\data_379.pt', 'D:/postgraduate/dataset/mil4wsi-main/lungGraph_13/processed\\\\train\\\\data_38.pt', 'D:/postgraduate/dataset/mil4wsi-main/lungGraph_13/processed\\\\train\\\\data_380.pt', 'D:/postgraduate/dataset/mil4wsi-main/lungGraph_13/processed\\\\train\\\\data_382.pt', 'D:/postgraduate/dataset/mil4wsi-main/lungGraph_13/processed\\\\train\\\\data_383.pt', 'D:/postgraduate/dataset/mil4wsi-main/lungGraph_13/processed\\\\train\\\\data_384.pt', 'D:/postgraduate/dataset/mil4wsi-main/lungGraph_13/processed\\\\train\\\\data_385.pt', 'D:/postgraduate/dataset/mil4wsi-main/lungGraph_13/processed\\\\train\\\\data_386.pt', 'D:/postgraduate/dataset/mil4wsi-main/lungGraph_13/processed\\\\train\\\\data_388.pt', 'D:/postgraduate/dataset/mil4wsi-main/lungGraph_13/processed\\\\train\\\\data_39.pt', 'D:/postgraduate/dataset/mil4wsi-main/lungGraph_13/processed\\\\train\\\\data_390.pt', 'D:/postgraduate/dataset/mil4wsi-main/lungGraph_13/processed\\\\train\\\\data_391.pt', 'D:/postgraduate/dataset/mil4wsi-main/lungGraph_13/processed\\\\train\\\\data_392.pt', 'D:/postgraduate/dataset/mil4wsi-main/lungGraph_13/processed\\\\train\\\\data_394.pt', 'D:/postgraduate/dataset/mil4wsi-main/lungGraph_13/processed\\\\train\\\\data_396.pt', 'D:/postgraduate/dataset/mil4wsi-main/lungGraph_13/processed\\\\train\\\\data_397.pt', 'D:/postgraduate/dataset/mil4wsi-main/lungGraph_13/processed\\\\train\\\\data_398.pt', 'D:/postgraduate/dataset/mil4wsi-main/lungGraph_13/processed\\\\train\\\\data_399.pt', 'D:/postgraduate/dataset/mil4wsi-main/lungGraph_13/processed\\\\train\\\\data_4.pt', 'D:/postgraduate/dataset/mil4wsi-main/lungGraph_13/processed\\\\train\\\\data_40.pt', 'D:/postgraduate/dataset/mil4wsi-main/lungGraph_13/processed\\\\train\\\\data_400.pt', 'D:/postgraduate/dataset/mil4wsi-main/lungGraph_13/processed\\\\train\\\\data_401.pt', 'D:/postgraduate/dataset/mil4wsi-main/lungGraph_13/processed\\\\train\\\\data_402.pt', 'D:/postgraduate/dataset/mil4wsi-main/lungGraph_13/processed\\\\train\\\\data_405.pt', 'D:/postgraduate/dataset/mil4wsi-main/lungGraph_13/processed\\\\train\\\\data_406.pt', 'D:/postgraduate/dataset/mil4wsi-main/lungGraph_13/processed\\\\train\\\\data_408.pt', 'D:/postgraduate/dataset/mil4wsi-main/lungGraph_13/processed\\\\train\\\\data_409.pt', 'D:/postgraduate/dataset/mil4wsi-main/lungGraph_13/processed\\\\train\\\\data_41.pt', 'D:/postgraduate/dataset/mil4wsi-main/lungGraph_13/processed\\\\train\\\\data_410.pt', 'D:/postgraduate/dataset/mil4wsi-main/lungGraph_13/processed\\\\train\\\\data_411.pt', 'D:/postgraduate/dataset/mil4wsi-main/lungGraph_13/processed\\\\train\\\\data_412.pt', 'D:/postgraduate/dataset/mil4wsi-main/lungGraph_13/processed\\\\train\\\\data_414.pt', 'D:/postgraduate/dataset/mil4wsi-main/lungGraph_13/processed\\\\train\\\\data_415.pt', 'D:/postgraduate/dataset/mil4wsi-main/lungGraph_13/processed\\\\train\\\\data_416.pt', 'D:/postgraduate/dataset/mil4wsi-main/lungGraph_13/processed\\\\train\\\\data_417.pt', 'D:/postgraduate/dataset/mil4wsi-main/lungGraph_13/processed\\\\train\\\\data_418.pt', 'D:/postgraduate/dataset/mil4wsi-main/lungGraph_13/processed\\\\train\\\\data_419.pt', 'D:/postgraduate/dataset/mil4wsi-main/lungGraph_13/processed\\\\train\\\\data_42.pt', 'D:/postgraduate/dataset/mil4wsi-main/lungGraph_13/processed\\\\train\\\\data_420.pt', 'D:/postgraduate/dataset/mil4wsi-main/lungGraph_13/processed\\\\train\\\\data_422.pt', 'D:/postgraduate/dataset/mil4wsi-main/lungGraph_13/processed\\\\train\\\\data_423.pt', 'D:/postgraduate/dataset/mil4wsi-main/lungGraph_13/processed\\\\train\\\\data_425.pt', 'D:/postgraduate/dataset/mil4wsi-main/lungGraph_13/processed\\\\train\\\\data_426.pt', 'D:/postgraduate/dataset/mil4wsi-main/lungGraph_13/processed\\\\train\\\\data_429.pt', 'D:/postgraduate/dataset/mil4wsi-main/lungGraph_13/processed\\\\train\\\\data_43.pt', 'D:/postgraduate/dataset/mil4wsi-main/lungGraph_13/processed\\\\train\\\\data_430.pt', 'D:/postgraduate/dataset/mil4wsi-main/lungGraph_13/processed\\\\train\\\\data_431.pt', 'D:/postgraduate/dataset/mil4wsi-main/lungGraph_13/processed\\\\train\\\\data_432.pt', 'D:/postgraduate/dataset/mil4wsi-main/lungGraph_13/processed\\\\train\\\\data_433.pt', 'D:/postgraduate/dataset/mil4wsi-main/lungGraph_13/processed\\\\train\\\\data_435.pt', 'D:/postgraduate/dataset/mil4wsi-main/lungGraph_13/processed\\\\train\\\\data_436.pt', 'D:/postgraduate/dataset/mil4wsi-main/lungGraph_13/processed\\\\train\\\\data_437.pt', 'D:/postgraduate/dataset/mil4wsi-main/lungGraph_13/processed\\\\train\\\\data_438.pt', 'D:/postgraduate/dataset/mil4wsi-main/lungGraph_13/processed\\\\train\\\\data_439.pt', 'D:/postgraduate/dataset/mil4wsi-main/lungGraph_13/processed\\\\train\\\\data_44.pt', 'D:/postgraduate/dataset/mil4wsi-main/lungGraph_13/processed\\\\train\\\\data_440.pt', 'D:/postgraduate/dataset/mil4wsi-main/lungGraph_13/processed\\\\train\\\\data_443.pt', 'D:/postgraduate/dataset/mil4wsi-main/lungGraph_13/processed\\\\train\\\\data_446.pt', 'D:/postgraduate/dataset/mil4wsi-main/lungGraph_13/processed\\\\train\\\\data_448.pt', 'D:/postgraduate/dataset/mil4wsi-main/lungGraph_13/processed\\\\train\\\\data_449.pt', 'D:/postgraduate/dataset/mil4wsi-main/lungGraph_13/processed\\\\train\\\\data_45.pt', 'D:/postgraduate/dataset/mil4wsi-main/lungGraph_13/processed\\\\train\\\\data_450.pt', 'D:/postgraduate/dataset/mil4wsi-main/lungGraph_13/processed\\\\train\\\\data_451.pt', 'D:/postgraduate/dataset/mil4wsi-main/lungGraph_13/processed\\\\train\\\\data_452.pt', 'D:/postgraduate/dataset/mil4wsi-main/lungGraph_13/processed\\\\train\\\\data_453.pt', 'D:/postgraduate/dataset/mil4wsi-main/lungGraph_13/processed\\\\train\\\\data_454.pt', 'D:/postgraduate/dataset/mil4wsi-main/lungGraph_13/processed\\\\train\\\\data_455.pt', 'D:/postgraduate/dataset/mil4wsi-main/lungGraph_13/processed\\\\train\\\\data_456.pt', 'D:/postgraduate/dataset/mil4wsi-main/lungGraph_13/processed\\\\train\\\\data_457.pt', 'D:/postgraduate/dataset/mil4wsi-main/lungGraph_13/processed\\\\train\\\\data_458.pt', 'D:/postgraduate/dataset/mil4wsi-main/lungGraph_13/processed\\\\train\\\\data_459.pt', 'D:/postgraduate/dataset/mil4wsi-main/lungGraph_13/processed\\\\train\\\\data_46.pt', 'D:/postgraduate/dataset/mil4wsi-main/lungGraph_13/processed\\\\train\\\\data_460.pt', 'D:/postgraduate/dataset/mil4wsi-main/lungGraph_13/processed\\\\train\\\\data_461.pt', 'D:/postgraduate/dataset/mil4wsi-main/lungGraph_13/processed\\\\train\\\\data_462.pt', 'D:/postgraduate/dataset/mil4wsi-main/lungGraph_13/processed\\\\train\\\\data_463.pt', 'D:/postgraduate/dataset/mil4wsi-main/lungGraph_13/processed\\\\train\\\\data_464.pt', 'D:/postgraduate/dataset/mil4wsi-main/lungGraph_13/processed\\\\train\\\\data_465.pt', 'D:/postgraduate/dataset/mil4wsi-main/lungGraph_13/processed\\\\train\\\\data_466.pt', 'D:/postgraduate/dataset/mil4wsi-main/lungGraph_13/processed\\\\train\\\\data_467.pt', 'D:/postgraduate/dataset/mil4wsi-main/lungGraph_13/processed\\\\train\\\\data_468.pt', 'D:/postgraduate/dataset/mil4wsi-main/lungGraph_13/processed\\\\train\\\\data_469.pt', 'D:/postgraduate/dataset/mil4wsi-main/lungGraph_13/processed\\\\train\\\\data_47.pt', 'D:/postgraduate/dataset/mil4wsi-main/lungGraph_13/processed\\\\train\\\\data_470.pt', 'D:/postgraduate/dataset/mil4wsi-main/lungGraph_13/processed\\\\train\\\\data_472.pt', 'D:/postgraduate/dataset/mil4wsi-main/lungGraph_13/processed\\\\train\\\\data_473.pt', 'D:/postgraduate/dataset/mil4wsi-main/lungGraph_13/processed\\\\train\\\\data_474.pt', 'D:/postgraduate/dataset/mil4wsi-main/lungGraph_13/processed\\\\train\\\\data_475.pt', 'D:/postgraduate/dataset/mil4wsi-main/lungGraph_13/processed\\\\train\\\\data_476.pt', 'D:/postgraduate/dataset/mil4wsi-main/lungGraph_13/processed\\\\train\\\\data_477.pt', 'D:/postgraduate/dataset/mil4wsi-main/lungGraph_13/processed\\\\train\\\\data_479.pt', 'D:/postgraduate/dataset/mil4wsi-main/lungGraph_13/processed\\\\train\\\\data_48.pt', 'D:/postgraduate/dataset/mil4wsi-main/lungGraph_13/processed\\\\train\\\\data_481.pt', 'D:/postgraduate/dataset/mil4wsi-main/lungGraph_13/processed\\\\train\\\\data_484.pt', 'D:/postgraduate/dataset/mil4wsi-main/lungGraph_13/processed\\\\train\\\\data_486.pt', 'D:/postgraduate/dataset/mil4wsi-main/lungGraph_13/processed\\\\train\\\\data_487.pt', 'D:/postgraduate/dataset/mil4wsi-main/lungGraph_13/processed\\\\train\\\\data_488.pt', 'D:/postgraduate/dataset/mil4wsi-main/lungGraph_13/processed\\\\train\\\\data_489.pt', 'D:/postgraduate/dataset/mil4wsi-main/lungGraph_13/processed\\\\train\\\\data_49.pt', 'D:/postgraduate/dataset/mil4wsi-main/lungGraph_13/processed\\\\train\\\\data_491.pt', 'D:/postgraduate/dataset/mil4wsi-main/lungGraph_13/processed\\\\train\\\\data_492.pt', 'D:/postgraduate/dataset/mil4wsi-main/lungGraph_13/processed\\\\train\\\\data_493.pt', 'D:/postgraduate/dataset/mil4wsi-main/lungGraph_13/processed\\\\train\\\\data_494.pt', 'D:/postgraduate/dataset/mil4wsi-main/lungGraph_13/processed\\\\train\\\\data_495.pt', 'D:/postgraduate/dataset/mil4wsi-main/lungGraph_13/processed\\\\train\\\\data_496.pt', 'D:/postgraduate/dataset/mil4wsi-main/lungGraph_13/processed\\\\train\\\\data_498.pt', 'D:/postgraduate/dataset/mil4wsi-main/lungGraph_13/processed\\\\train\\\\data_499.pt', 'D:/postgraduate/dataset/mil4wsi-main/lungGraph_13/processed\\\\train\\\\data_5.pt', 'D:/postgraduate/dataset/mil4wsi-main/lungGraph_13/processed\\\\train\\\\data_50.pt', 'D:/postgraduate/dataset/mil4wsi-main/lungGraph_13/processed\\\\train\\\\data_500.pt', 'D:/postgraduate/dataset/mil4wsi-main/lungGraph_13/processed\\\\train\\\\data_501.pt', 'D:/postgraduate/dataset/mil4wsi-main/lungGraph_13/processed\\\\train\\\\data_502.pt', 'D:/postgraduate/dataset/mil4wsi-main/lungGraph_13/processed\\\\train\\\\data_505.pt', 'D:/postgraduate/dataset/mil4wsi-main/lungGraph_13/processed\\\\train\\\\data_506.pt', 'D:/postgraduate/dataset/mil4wsi-main/lungGraph_13/processed\\\\train\\\\data_507.pt', 'D:/postgraduate/dataset/mil4wsi-main/lungGraph_13/processed\\\\train\\\\data_508.pt', 'D:/postgraduate/dataset/mil4wsi-main/lungGraph_13/processed\\\\train\\\\data_509.pt', 'D:/postgraduate/dataset/mil4wsi-main/lungGraph_13/processed\\\\train\\\\data_51.pt', 'D:/postgraduate/dataset/mil4wsi-main/lungGraph_13/processed\\\\train\\\\data_510.pt', 'D:/postgraduate/dataset/mil4wsi-main/lungGraph_13/processed\\\\train\\\\data_511.pt', 'D:/postgraduate/dataset/mil4wsi-main/lungGraph_13/processed\\\\train\\\\data_512.pt', 'D:/postgraduate/dataset/mil4wsi-main/lungGraph_13/processed\\\\train\\\\data_513.pt', 'D:/postgraduate/dataset/mil4wsi-main/lungGraph_13/processed\\\\train\\\\data_514.pt', 'D:/postgraduate/dataset/mil4wsi-main/lungGraph_13/processed\\\\train\\\\data_516.pt', 'D:/postgraduate/dataset/mil4wsi-main/lungGraph_13/processed\\\\train\\\\data_517.pt', 'D:/postgraduate/dataset/mil4wsi-main/lungGraph_13/processed\\\\train\\\\data_518.pt', 'D:/postgraduate/dataset/mil4wsi-main/lungGraph_13/processed\\\\train\\\\data_519.pt', 'D:/postgraduate/dataset/mil4wsi-main/lungGraph_13/processed\\\\train\\\\data_52.pt', 'D:/postgraduate/dataset/mil4wsi-main/lungGraph_13/processed\\\\train\\\\data_521.pt', 'D:/postgraduate/dataset/mil4wsi-main/lungGraph_13/processed\\\\train\\\\data_522.pt', 'D:/postgraduate/dataset/mil4wsi-main/lungGraph_13/processed\\\\train\\\\data_524.pt', 'D:/postgraduate/dataset/mil4wsi-main/lungGraph_13/processed\\\\train\\\\data_527.pt', 'D:/postgraduate/dataset/mil4wsi-main/lungGraph_13/processed\\\\train\\\\data_528.pt', 'D:/postgraduate/dataset/mil4wsi-main/lungGraph_13/processed\\\\train\\\\data_53.pt', 'D:/postgraduate/dataset/mil4wsi-main/lungGraph_13/processed\\\\train\\\\data_530.pt', 'D:/postgraduate/dataset/mil4wsi-main/lungGraph_13/processed\\\\train\\\\data_531.pt', 'D:/postgraduate/dataset/mil4wsi-main/lungGraph_13/processed\\\\train\\\\data_532.pt', 'D:/postgraduate/dataset/mil4wsi-main/lungGraph_13/processed\\\\train\\\\data_533.pt', 'D:/postgraduate/dataset/mil4wsi-main/lungGraph_13/processed\\\\train\\\\data_534.pt', 'D:/postgraduate/dataset/mil4wsi-main/lungGraph_13/processed\\\\train\\\\data_535.pt', 'D:/postgraduate/dataset/mil4wsi-main/lungGraph_13/processed\\\\train\\\\data_536.pt', 'D:/postgraduate/dataset/mil4wsi-main/lungGraph_13/processed\\\\train\\\\data_537.pt', 'D:/postgraduate/dataset/mil4wsi-main/lungGraph_13/processed\\\\train\\\\data_538.pt', 'D:/postgraduate/dataset/mil4wsi-main/lungGraph_13/processed\\\\train\\\\data_539.pt', 'D:/postgraduate/dataset/mil4wsi-main/lungGraph_13/processed\\\\train\\\\data_54.pt', 'D:/postgraduate/dataset/mil4wsi-main/lungGraph_13/processed\\\\train\\\\data_541.pt', 'D:/postgraduate/dataset/mil4wsi-main/lungGraph_13/processed\\\\train\\\\data_542.pt', 'D:/postgraduate/dataset/mil4wsi-main/lungGraph_13/processed\\\\train\\\\data_544.pt', 'D:/postgraduate/dataset/mil4wsi-main/lungGraph_13/processed\\\\train\\\\data_545.pt', 'D:/postgraduate/dataset/mil4wsi-main/lungGraph_13/processed\\\\train\\\\data_546.pt', 'D:/postgraduate/dataset/mil4wsi-main/lungGraph_13/processed\\\\train\\\\data_547.pt', 'D:/postgraduate/dataset/mil4wsi-main/lungGraph_13/processed\\\\train\\\\data_548.pt', 'D:/postgraduate/dataset/mil4wsi-main/lungGraph_13/processed\\\\train\\\\data_55.pt', 'D:/postgraduate/dataset/mil4wsi-main/lungGraph_13/processed\\\\train\\\\data_550.pt', 'D:/postgraduate/dataset/mil4wsi-main/lungGraph_13/processed\\\\train\\\\data_551.pt', 'D:/postgraduate/dataset/mil4wsi-main/lungGraph_13/processed\\\\train\\\\data_552.pt', 'D:/postgraduate/dataset/mil4wsi-main/lungGraph_13/processed\\\\train\\\\data_553.pt', 'D:/postgraduate/dataset/mil4wsi-main/lungGraph_13/processed\\\\train\\\\data_554.pt', 'D:/postgraduate/dataset/mil4wsi-main/lungGraph_13/processed\\\\train\\\\data_555.pt', 'D:/postgraduate/dataset/mil4wsi-main/lungGraph_13/processed\\\\train\\\\data_556.pt', 'D:/postgraduate/dataset/mil4wsi-main/lungGraph_13/processed\\\\train\\\\data_557.pt', 'D:/postgraduate/dataset/mil4wsi-main/lungGraph_13/processed\\\\train\\\\data_558.pt', 'D:/postgraduate/dataset/mil4wsi-main/lungGraph_13/processed\\\\train\\\\data_559.pt', 'D:/postgraduate/dataset/mil4wsi-main/lungGraph_13/processed\\\\train\\\\data_560.pt', 'D:/postgraduate/dataset/mil4wsi-main/lungGraph_13/processed\\\\train\\\\data_561.pt', 'D:/postgraduate/dataset/mil4wsi-main/lungGraph_13/processed\\\\train\\\\data_562.pt', 'D:/postgraduate/dataset/mil4wsi-main/lungGraph_13/processed\\\\train\\\\data_563.pt', 'D:/postgraduate/dataset/mil4wsi-main/lungGraph_13/processed\\\\train\\\\data_564.pt', 'D:/postgraduate/dataset/mil4wsi-main/lungGraph_13/processed\\\\train\\\\data_565.pt', 'D:/postgraduate/dataset/mil4wsi-main/lungGraph_13/processed\\\\train\\\\data_566.pt', 'D:/postgraduate/dataset/mil4wsi-main/lungGraph_13/processed\\\\train\\\\data_569.pt', 'D:/postgraduate/dataset/mil4wsi-main/lungGraph_13/processed\\\\train\\\\data_57.pt', 'D:/postgraduate/dataset/mil4wsi-main/lungGraph_13/processed\\\\train\\\\data_570.pt', 'D:/postgraduate/dataset/mil4wsi-main/lungGraph_13/processed\\\\train\\\\data_572.pt', 'D:/postgraduate/dataset/mil4wsi-main/lungGraph_13/processed\\\\train\\\\data_573.pt', 'D:/postgraduate/dataset/mil4wsi-main/lungGraph_13/processed\\\\train\\\\data_574.pt', 'D:/postgraduate/dataset/mil4wsi-main/lungGraph_13/processed\\\\train\\\\data_575.pt', 'D:/postgraduate/dataset/mil4wsi-main/lungGraph_13/processed\\\\train\\\\data_577.pt', 'D:/postgraduate/dataset/mil4wsi-main/lungGraph_13/processed\\\\train\\\\data_578.pt', 'D:/postgraduate/dataset/mil4wsi-main/lungGraph_13/processed\\\\train\\\\data_579.pt', 'D:/postgraduate/dataset/mil4wsi-main/lungGraph_13/processed\\\\train\\\\data_58.pt', 'D:/postgraduate/dataset/mil4wsi-main/lungGraph_13/processed\\\\train\\\\data_581.pt', 'D:/postgraduate/dataset/mil4wsi-main/lungGraph_13/processed\\\\train\\\\data_582.pt', 'D:/postgraduate/dataset/mil4wsi-main/lungGraph_13/processed\\\\train\\\\data_583.pt', 'D:/postgraduate/dataset/mil4wsi-main/lungGraph_13/processed\\\\train\\\\data_584.pt', 'D:/postgraduate/dataset/mil4wsi-main/lungGraph_13/processed\\\\train\\\\data_585.pt', 'D:/postgraduate/dataset/mil4wsi-main/lungGraph_13/processed\\\\train\\\\data_586.pt', 'D:/postgraduate/dataset/mil4wsi-main/lungGraph_13/processed\\\\train\\\\data_587.pt', 'D:/postgraduate/dataset/mil4wsi-main/lungGraph_13/processed\\\\train\\\\data_589.pt', 'D:/postgraduate/dataset/mil4wsi-main/lungGraph_13/processed\\\\train\\\\data_590.pt', 'D:/postgraduate/dataset/mil4wsi-main/lungGraph_13/processed\\\\train\\\\data_591.pt', 'D:/postgraduate/dataset/mil4wsi-main/lungGraph_13/processed\\\\train\\\\data_592.pt', 'D:/postgraduate/dataset/mil4wsi-main/lungGraph_13/processed\\\\train\\\\data_593.pt', 'D:/postgraduate/dataset/mil4wsi-main/lungGraph_13/processed\\\\train\\\\data_594.pt', 'D:/postgraduate/dataset/mil4wsi-main/lungGraph_13/processed\\\\train\\\\data_595.pt', 'D:/postgraduate/dataset/mil4wsi-main/lungGraph_13/processed\\\\train\\\\data_596.pt', 'D:/postgraduate/dataset/mil4wsi-main/lungGraph_13/processed\\\\train\\\\data_597.pt', 'D:/postgraduate/dataset/mil4wsi-main/lungGraph_13/processed\\\\train\\\\data_599.pt', 'D:/postgraduate/dataset/mil4wsi-main/lungGraph_13/processed\\\\train\\\\data_6.pt', 'D:/postgraduate/dataset/mil4wsi-main/lungGraph_13/processed\\\\train\\\\data_60.pt', 'D:/postgraduate/dataset/mil4wsi-main/lungGraph_13/processed\\\\train\\\\data_600.pt', 'D:/postgraduate/dataset/mil4wsi-main/lungGraph_13/processed\\\\train\\\\data_601.pt', 'D:/postgraduate/dataset/mil4wsi-main/lungGraph_13/processed\\\\train\\\\data_603.pt', 'D:/postgraduate/dataset/mil4wsi-main/lungGraph_13/processed\\\\train\\\\data_604.pt', 'D:/postgraduate/dataset/mil4wsi-main/lungGraph_13/processed\\\\train\\\\data_605.pt', 'D:/postgraduate/dataset/mil4wsi-main/lungGraph_13/processed\\\\train\\\\data_606.pt', 'D:/postgraduate/dataset/mil4wsi-main/lungGraph_13/processed\\\\train\\\\data_608.pt', 'D:/postgraduate/dataset/mil4wsi-main/lungGraph_13/processed\\\\train\\\\data_609.pt', 'D:/postgraduate/dataset/mil4wsi-main/lungGraph_13/processed\\\\train\\\\data_61.pt', 'D:/postgraduate/dataset/mil4wsi-main/lungGraph_13/processed\\\\train\\\\data_611.pt', 'D:/postgraduate/dataset/mil4wsi-main/lungGraph_13/processed\\\\train\\\\data_612.pt', 'D:/postgraduate/dataset/mil4wsi-main/lungGraph_13/processed\\\\train\\\\data_613.pt', 'D:/postgraduate/dataset/mil4wsi-main/lungGraph_13/processed\\\\train\\\\data_615.pt', 'D:/postgraduate/dataset/mil4wsi-main/lungGraph_13/processed\\\\train\\\\data_616.pt', 'D:/postgraduate/dataset/mil4wsi-main/lungGraph_13/processed\\\\train\\\\data_617.pt', 'D:/postgraduate/dataset/mil4wsi-main/lungGraph_13/processed\\\\train\\\\data_618.pt', 'D:/postgraduate/dataset/mil4wsi-main/lungGraph_13/processed\\\\train\\\\data_621.pt', 'D:/postgraduate/dataset/mil4wsi-main/lungGraph_13/processed\\\\train\\\\data_622.pt', 'D:/postgraduate/dataset/mil4wsi-main/lungGraph_13/processed\\\\train\\\\data_623.pt', 'D:/postgraduate/dataset/mil4wsi-main/lungGraph_13/processed\\\\train\\\\data_624.pt', 'D:/postgraduate/dataset/mil4wsi-main/lungGraph_13/processed\\\\train\\\\data_625.pt', 'D:/postgraduate/dataset/mil4wsi-main/lungGraph_13/processed\\\\train\\\\data_626.pt', 'D:/postgraduate/dataset/mil4wsi-main/lungGraph_13/processed\\\\train\\\\data_627.pt', 'D:/postgraduate/dataset/mil4wsi-main/lungGraph_13/processed\\\\train\\\\data_628.pt', 'D:/postgraduate/dataset/mil4wsi-main/lungGraph_13/processed\\\\train\\\\data_63.pt', 'D:/postgraduate/dataset/mil4wsi-main/lungGraph_13/processed\\\\train\\\\data_631.pt', 'D:/postgraduate/dataset/mil4wsi-main/lungGraph_13/processed\\\\train\\\\data_632.pt', 'D:/postgraduate/dataset/mil4wsi-main/lungGraph_13/processed\\\\train\\\\data_634.pt', 'D:/postgraduate/dataset/mil4wsi-main/lungGraph_13/processed\\\\train\\\\data_635.pt', 'D:/postgraduate/dataset/mil4wsi-main/lungGraph_13/processed\\\\train\\\\data_637.pt', 'D:/postgraduate/dataset/mil4wsi-main/lungGraph_13/processed\\\\train\\\\data_638.pt', 'D:/postgraduate/dataset/mil4wsi-main/lungGraph_13/processed\\\\train\\\\data_64.pt', 'D:/postgraduate/dataset/mil4wsi-main/lungGraph_13/processed\\\\train\\\\data_640.pt', 'D:/postgraduate/dataset/mil4wsi-main/lungGraph_13/processed\\\\train\\\\data_641.pt', 'D:/postgraduate/dataset/mil4wsi-main/lungGraph_13/processed\\\\train\\\\data_642.pt', 'D:/postgraduate/dataset/mil4wsi-main/lungGraph_13/processed\\\\train\\\\data_643.pt', 'D:/postgraduate/dataset/mil4wsi-main/lungGraph_13/processed\\\\train\\\\data_644.pt', 'D:/postgraduate/dataset/mil4wsi-main/lungGraph_13/processed\\\\train\\\\data_645.pt', 'D:/postgraduate/dataset/mil4wsi-main/lungGraph_13/processed\\\\train\\\\data_647.pt', 'D:/postgraduate/dataset/mil4wsi-main/lungGraph_13/processed\\\\train\\\\data_648.pt', 'D:/postgraduate/dataset/mil4wsi-main/lungGraph_13/processed\\\\train\\\\data_65.pt', 'D:/postgraduate/dataset/mil4wsi-main/lungGraph_13/processed\\\\train\\\\data_650.pt', 'D:/postgraduate/dataset/mil4wsi-main/lungGraph_13/processed\\\\train\\\\data_651.pt', 'D:/postgraduate/dataset/mil4wsi-main/lungGraph_13/processed\\\\train\\\\data_652.pt', 'D:/postgraduate/dataset/mil4wsi-main/lungGraph_13/processed\\\\train\\\\data_653.pt', 'D:/postgraduate/dataset/mil4wsi-main/lungGraph_13/processed\\\\train\\\\data_654.pt', 'D:/postgraduate/dataset/mil4wsi-main/lungGraph_13/processed\\\\train\\\\data_659.pt', 'D:/postgraduate/dataset/mil4wsi-main/lungGraph_13/processed\\\\train\\\\data_660.pt', 'D:/postgraduate/dataset/mil4wsi-main/lungGraph_13/processed\\\\train\\\\data_661.pt', 'D:/postgraduate/dataset/mil4wsi-main/lungGraph_13/processed\\\\train\\\\data_663.pt', 'D:/postgraduate/dataset/mil4wsi-main/lungGraph_13/processed\\\\train\\\\data_664.pt', 'D:/postgraduate/dataset/mil4wsi-main/lungGraph_13/processed\\\\train\\\\data_665.pt', 'D:/postgraduate/dataset/mil4wsi-main/lungGraph_13/processed\\\\train\\\\data_667.pt', 'D:/postgraduate/dataset/mil4wsi-main/lungGraph_13/processed\\\\train\\\\data_668.pt', 'D:/postgraduate/dataset/mil4wsi-main/lungGraph_13/processed\\\\train\\\\data_67.pt', 'D:/postgraduate/dataset/mil4wsi-main/lungGraph_13/processed\\\\train\\\\data_671.pt', 'D:/postgraduate/dataset/mil4wsi-main/lungGraph_13/processed\\\\train\\\\data_672.pt', 'D:/postgraduate/dataset/mil4wsi-main/lungGraph_13/processed\\\\train\\\\data_673.pt', 'D:/postgraduate/dataset/mil4wsi-main/lungGraph_13/processed\\\\train\\\\data_674.pt', 'D:/postgraduate/dataset/mil4wsi-main/lungGraph_13/processed\\\\train\\\\data_675.pt', 'D:/postgraduate/dataset/mil4wsi-main/lungGraph_13/processed\\\\train\\\\data_676.pt', 'D:/postgraduate/dataset/mil4wsi-main/lungGraph_13/processed\\\\train\\\\data_677.pt', 'D:/postgraduate/dataset/mil4wsi-main/lungGraph_13/processed\\\\train\\\\data_678.pt', 'D:/postgraduate/dataset/mil4wsi-main/lungGraph_13/processed\\\\train\\\\data_68.pt', 'D:/postgraduate/dataset/mil4wsi-main/lungGraph_13/processed\\\\train\\\\data_680.pt', 'D:/postgraduate/dataset/mil4wsi-main/lungGraph_13/processed\\\\train\\\\data_681.pt', 'D:/postgraduate/dataset/mil4wsi-main/lungGraph_13/processed\\\\train\\\\data_683.pt', 'D:/postgraduate/dataset/mil4wsi-main/lungGraph_13/processed\\\\train\\\\data_685.pt', 'D:/postgraduate/dataset/mil4wsi-main/lungGraph_13/processed\\\\train\\\\data_686.pt', 'D:/postgraduate/dataset/mil4wsi-main/lungGraph_13/processed\\\\train\\\\data_687.pt', 'D:/postgraduate/dataset/mil4wsi-main/lungGraph_13/processed\\\\train\\\\data_688.pt', 'D:/postgraduate/dataset/mil4wsi-main/lungGraph_13/processed\\\\train\\\\data_689.pt', 'D:/postgraduate/dataset/mil4wsi-main/lungGraph_13/processed\\\\train\\\\data_69.pt', 'D:/postgraduate/dataset/mil4wsi-main/lungGraph_13/processed\\\\train\\\\data_692.pt', 'D:/postgraduate/dataset/mil4wsi-main/lungGraph_13/processed\\\\train\\\\data_693.pt', 'D:/postgraduate/dataset/mil4wsi-main/lungGraph_13/processed\\\\train\\\\data_694.pt', 'D:/postgraduate/dataset/mil4wsi-main/lungGraph_13/processed\\\\train\\\\data_695.pt', 'D:/postgraduate/dataset/mil4wsi-main/lungGraph_13/processed\\\\train\\\\data_696.pt', 'D:/postgraduate/dataset/mil4wsi-main/lungGraph_13/processed\\\\train\\\\data_697.pt', 'D:/postgraduate/dataset/mil4wsi-main/lungGraph_13/processed\\\\train\\\\data_699.pt', 'D:/postgraduate/dataset/mil4wsi-main/lungGraph_13/processed\\\\train\\\\data_7.pt', 'D:/postgraduate/dataset/mil4wsi-main/lungGraph_13/processed\\\\train\\\\data_70.pt', 'D:/postgraduate/dataset/mil4wsi-main/lungGraph_13/processed\\\\train\\\\data_700.pt', 'D:/postgraduate/dataset/mil4wsi-main/lungGraph_13/processed\\\\train\\\\data_702.pt', 'D:/postgraduate/dataset/mil4wsi-main/lungGraph_13/processed\\\\train\\\\data_703.pt', 'D:/postgraduate/dataset/mil4wsi-main/lungGraph_13/processed\\\\train\\\\data_706.pt', 'D:/postgraduate/dataset/mil4wsi-main/lungGraph_13/processed\\\\train\\\\data_707.pt', 'D:/postgraduate/dataset/mil4wsi-main/lungGraph_13/processed\\\\train\\\\data_708.pt', 'D:/postgraduate/dataset/mil4wsi-main/lungGraph_13/processed\\\\train\\\\data_71.pt', 'D:/postgraduate/dataset/mil4wsi-main/lungGraph_13/processed\\\\train\\\\data_711.pt', 'D:/postgraduate/dataset/mil4wsi-main/lungGraph_13/processed\\\\train\\\\data_712.pt', 'D:/postgraduate/dataset/mil4wsi-main/lungGraph_13/processed\\\\train\\\\data_713.pt', 'D:/postgraduate/dataset/mil4wsi-main/lungGraph_13/processed\\\\train\\\\data_714.pt', 'D:/postgraduate/dataset/mil4wsi-main/lungGraph_13/processed\\\\train\\\\data_715.pt', 'D:/postgraduate/dataset/mil4wsi-main/lungGraph_13/processed\\\\train\\\\data_716.pt', 'D:/postgraduate/dataset/mil4wsi-main/lungGraph_13/processed\\\\train\\\\data_717.pt', 'D:/postgraduate/dataset/mil4wsi-main/lungGraph_13/processed\\\\train\\\\data_718.pt', 'D:/postgraduate/dataset/mil4wsi-main/lungGraph_13/processed\\\\train\\\\data_719.pt', 'D:/postgraduate/dataset/mil4wsi-main/lungGraph_13/processed\\\\train\\\\data_72.pt', 'D:/postgraduate/dataset/mil4wsi-main/lungGraph_13/processed\\\\train\\\\data_720.pt', 'D:/postgraduate/dataset/mil4wsi-main/lungGraph_13/processed\\\\train\\\\data_721.pt', 'D:/postgraduate/dataset/mil4wsi-main/lungGraph_13/processed\\\\train\\\\data_722.pt', 'D:/postgraduate/dataset/mil4wsi-main/lungGraph_13/processed\\\\train\\\\data_723.pt', 'D:/postgraduate/dataset/mil4wsi-main/lungGraph_13/processed\\\\train\\\\data_724.pt', 'D:/postgraduate/dataset/mil4wsi-main/lungGraph_13/processed\\\\train\\\\data_725.pt', 'D:/postgraduate/dataset/mil4wsi-main/lungGraph_13/processed\\\\train\\\\data_726.pt', 'D:/postgraduate/dataset/mil4wsi-main/lungGraph_13/processed\\\\train\\\\data_727.pt', 'D:/postgraduate/dataset/mil4wsi-main/lungGraph_13/processed\\\\train\\\\data_728.pt', 'D:/postgraduate/dataset/mil4wsi-main/lungGraph_13/processed\\\\train\\\\data_729.pt', 'D:/postgraduate/dataset/mil4wsi-main/lungGraph_13/processed\\\\train\\\\data_73.pt', 'D:/postgraduate/dataset/mil4wsi-main/lungGraph_13/processed\\\\train\\\\data_730.pt', 'D:/postgraduate/dataset/mil4wsi-main/lungGraph_13/processed\\\\train\\\\data_733.pt', 'D:/postgraduate/dataset/mil4wsi-main/lungGraph_13/processed\\\\train\\\\data_734.pt', 'D:/postgraduate/dataset/mil4wsi-main/lungGraph_13/processed\\\\train\\\\data_736.pt', 'D:/postgraduate/dataset/mil4wsi-main/lungGraph_13/processed\\\\train\\\\data_737.pt', 'D:/postgraduate/dataset/mil4wsi-main/lungGraph_13/processed\\\\train\\\\data_738.pt', 'D:/postgraduate/dataset/mil4wsi-main/lungGraph_13/processed\\\\train\\\\data_739.pt', 'D:/postgraduate/dataset/mil4wsi-main/lungGraph_13/processed\\\\train\\\\data_741.pt', 'D:/postgraduate/dataset/mil4wsi-main/lungGraph_13/processed\\\\train\\\\data_744.pt', 'D:/postgraduate/dataset/mil4wsi-main/lungGraph_13/processed\\\\train\\\\data_745.pt', 'D:/postgraduate/dataset/mil4wsi-main/lungGraph_13/processed\\\\train\\\\data_746.pt', 'D:/postgraduate/dataset/mil4wsi-main/lungGraph_13/processed\\\\train\\\\data_747.pt', 'D:/postgraduate/dataset/mil4wsi-main/lungGraph_13/processed\\\\train\\\\data_748.pt', 'D:/postgraduate/dataset/mil4wsi-main/lungGraph_13/processed\\\\train\\\\data_749.pt', 'D:/postgraduate/dataset/mil4wsi-main/lungGraph_13/processed\\\\train\\\\data_75.pt', 'D:/postgraduate/dataset/mil4wsi-main/lungGraph_13/processed\\\\train\\\\data_750.pt', 'D:/postgraduate/dataset/mil4wsi-main/lungGraph_13/processed\\\\train\\\\data_751.pt', 'D:/postgraduate/dataset/mil4wsi-main/lungGraph_13/processed\\\\train\\\\data_752.pt', 'D:/postgraduate/dataset/mil4wsi-main/lungGraph_13/processed\\\\train\\\\data_753.pt', 'D:/postgraduate/dataset/mil4wsi-main/lungGraph_13/processed\\\\train\\\\data_754.pt', 'D:/postgraduate/dataset/mil4wsi-main/lungGraph_13/processed\\\\train\\\\data_756.pt', 'D:/postgraduate/dataset/mil4wsi-main/lungGraph_13/processed\\\\train\\\\data_757.pt', 'D:/postgraduate/dataset/mil4wsi-main/lungGraph_13/processed\\\\train\\\\data_758.pt', 'D:/postgraduate/dataset/mil4wsi-main/lungGraph_13/processed\\\\train\\\\data_759.pt', 'D:/postgraduate/dataset/mil4wsi-main/lungGraph_13/processed\\\\train\\\\data_76.pt', 'D:/postgraduate/dataset/mil4wsi-main/lungGraph_13/processed\\\\train\\\\data_760.pt', 'D:/postgraduate/dataset/mil4wsi-main/lungGraph_13/processed\\\\train\\\\data_762.pt', 'D:/postgraduate/dataset/mil4wsi-main/lungGraph_13/processed\\\\train\\\\data_763.pt', 'D:/postgraduate/dataset/mil4wsi-main/lungGraph_13/processed\\\\train\\\\data_764.pt', 'D:/postgraduate/dataset/mil4wsi-main/lungGraph_13/processed\\\\train\\\\data_765.pt', 'D:/postgraduate/dataset/mil4wsi-main/lungGraph_13/processed\\\\train\\\\data_768.pt', 'D:/postgraduate/dataset/mil4wsi-main/lungGraph_13/processed\\\\train\\\\data_769.pt', 'D:/postgraduate/dataset/mil4wsi-main/lungGraph_13/processed\\\\train\\\\data_770.pt', 'D:/postgraduate/dataset/mil4wsi-main/lungGraph_13/processed\\\\train\\\\data_771.pt', 'D:/postgraduate/dataset/mil4wsi-main/lungGraph_13/processed\\\\train\\\\data_772.pt', 'D:/postgraduate/dataset/mil4wsi-main/lungGraph_13/processed\\\\train\\\\data_775.pt', 'D:/postgraduate/dataset/mil4wsi-main/lungGraph_13/processed\\\\train\\\\data_776.pt', 'D:/postgraduate/dataset/mil4wsi-main/lungGraph_13/processed\\\\train\\\\data_777.pt', 'D:/postgraduate/dataset/mil4wsi-main/lungGraph_13/processed\\\\train\\\\data_778.pt', 'D:/postgraduate/dataset/mil4wsi-main/lungGraph_13/processed\\\\train\\\\data_779.pt', 'D:/postgraduate/dataset/mil4wsi-main/lungGraph_13/processed\\\\train\\\\data_78.pt', 'D:/postgraduate/dataset/mil4wsi-main/lungGraph_13/processed\\\\train\\\\data_780.pt', 'D:/postgraduate/dataset/mil4wsi-main/lungGraph_13/processed\\\\train\\\\data_781.pt', 'D:/postgraduate/dataset/mil4wsi-main/lungGraph_13/processed\\\\train\\\\data_782.pt', 'D:/postgraduate/dataset/mil4wsi-main/lungGraph_13/processed\\\\train\\\\data_784.pt', 'D:/postgraduate/dataset/mil4wsi-main/lungGraph_13/processed\\\\train\\\\data_785.pt', 'D:/postgraduate/dataset/mil4wsi-main/lungGraph_13/processed\\\\train\\\\data_787.pt', 'D:/postgraduate/dataset/mil4wsi-main/lungGraph_13/processed\\\\train\\\\data_789.pt', 'D:/postgraduate/dataset/mil4wsi-main/lungGraph_13/processed\\\\train\\\\data_79.pt', 'D:/postgraduate/dataset/mil4wsi-main/lungGraph_13/processed\\\\train\\\\data_790.pt', 'D:/postgraduate/dataset/mil4wsi-main/lungGraph_13/processed\\\\train\\\\data_792.pt', 'D:/postgraduate/dataset/mil4wsi-main/lungGraph_13/processed\\\\train\\\\data_793.pt', 'D:/postgraduate/dataset/mil4wsi-main/lungGraph_13/processed\\\\train\\\\data_796.pt', 'D:/postgraduate/dataset/mil4wsi-main/lungGraph_13/processed\\\\train\\\\data_797.pt', 'D:/postgraduate/dataset/mil4wsi-main/lungGraph_13/processed\\\\train\\\\data_799.pt', 'D:/postgraduate/dataset/mil4wsi-main/lungGraph_13/processed\\\\train\\\\data_8.pt', 'D:/postgraduate/dataset/mil4wsi-main/lungGraph_13/processed\\\\train\\\\data_80.pt', 'D:/postgraduate/dataset/mil4wsi-main/lungGraph_13/processed\\\\train\\\\data_800.pt', 'D:/postgraduate/dataset/mil4wsi-main/lungGraph_13/processed\\\\train\\\\data_801.pt', 'D:/postgraduate/dataset/mil4wsi-main/lungGraph_13/processed\\\\train\\\\data_803.pt', 'D:/postgraduate/dataset/mil4wsi-main/lungGraph_13/processed\\\\train\\\\data_804.pt', 'D:/postgraduate/dataset/mil4wsi-main/lungGraph_13/processed\\\\train\\\\data_805.pt', 'D:/postgraduate/dataset/mil4wsi-main/lungGraph_13/processed\\\\train\\\\data_806.pt', 'D:/postgraduate/dataset/mil4wsi-main/lungGraph_13/processed\\\\train\\\\data_807.pt', 'D:/postgraduate/dataset/mil4wsi-main/lungGraph_13/processed\\\\train\\\\data_808.pt', 'D:/postgraduate/dataset/mil4wsi-main/lungGraph_13/processed\\\\train\\\\data_809.pt', 'D:/postgraduate/dataset/mil4wsi-main/lungGraph_13/processed\\\\train\\\\data_81.pt', 'D:/postgraduate/dataset/mil4wsi-main/lungGraph_13/processed\\\\train\\\\data_810.pt', 'D:/postgraduate/dataset/mil4wsi-main/lungGraph_13/processed\\\\train\\\\data_811.pt', 'D:/postgraduate/dataset/mil4wsi-main/lungGraph_13/processed\\\\train\\\\data_812.pt', 'D:/postgraduate/dataset/mil4wsi-main/lungGraph_13/processed\\\\train\\\\data_814.pt', 'D:/postgraduate/dataset/mil4wsi-main/lungGraph_13/processed\\\\train\\\\data_815.pt', 'D:/postgraduate/dataset/mil4wsi-main/lungGraph_13/processed\\\\train\\\\data_816.pt', 'D:/postgraduate/dataset/mil4wsi-main/lungGraph_13/processed\\\\train\\\\data_817.pt', 'D:/postgraduate/dataset/mil4wsi-main/lungGraph_13/processed\\\\train\\\\data_818.pt', 'D:/postgraduate/dataset/mil4wsi-main/lungGraph_13/processed\\\\train\\\\data_819.pt', 'D:/postgraduate/dataset/mil4wsi-main/lungGraph_13/processed\\\\train\\\\data_82.pt', 'D:/postgraduate/dataset/mil4wsi-main/lungGraph_13/processed\\\\train\\\\data_820.pt', 'D:/postgraduate/dataset/mil4wsi-main/lungGraph_13/processed\\\\train\\\\data_821.pt', 'D:/postgraduate/dataset/mil4wsi-main/lungGraph_13/processed\\\\train\\\\data_822.pt', 'D:/postgraduate/dataset/mil4wsi-main/lungGraph_13/processed\\\\train\\\\data_823.pt', 'D:/postgraduate/dataset/mil4wsi-main/lungGraph_13/processed\\\\train\\\\data_824.pt', 'D:/postgraduate/dataset/mil4wsi-main/lungGraph_13/processed\\\\train\\\\data_825.pt', 'D:/postgraduate/dataset/mil4wsi-main/lungGraph_13/processed\\\\train\\\\data_826.pt', 'D:/postgraduate/dataset/mil4wsi-main/lungGraph_13/processed\\\\train\\\\data_827.pt', 'D:/postgraduate/dataset/mil4wsi-main/lungGraph_13/processed\\\\train\\\\data_828.pt', 'D:/postgraduate/dataset/mil4wsi-main/lungGraph_13/processed\\\\train\\\\data_829.pt', 'D:/postgraduate/dataset/mil4wsi-main/lungGraph_13/processed\\\\train\\\\data_83.pt', 'D:/postgraduate/dataset/mil4wsi-main/lungGraph_13/processed\\\\train\\\\data_830.pt', 'D:/postgraduate/dataset/mil4wsi-main/lungGraph_13/processed\\\\train\\\\data_832.pt', 'D:/postgraduate/dataset/mil4wsi-main/lungGraph_13/processed\\\\train\\\\data_833.pt', 'D:/postgraduate/dataset/mil4wsi-main/lungGraph_13/processed\\\\train\\\\data_834.pt', 'D:/postgraduate/dataset/mil4wsi-main/lungGraph_13/processed\\\\train\\\\data_835.pt', 'D:/postgraduate/dataset/mil4wsi-main/lungGraph_13/processed\\\\train\\\\data_836.pt', 'D:/postgraduate/dataset/mil4wsi-main/lungGraph_13/processed\\\\train\\\\data_837.pt', 'D:/postgraduate/dataset/mil4wsi-main/lungGraph_13/processed\\\\train\\\\data_839.pt', 'D:/postgraduate/dataset/mil4wsi-main/lungGraph_13/processed\\\\train\\\\data_84.pt', 'D:/postgraduate/dataset/mil4wsi-main/lungGraph_13/processed\\\\train\\\\data_840.pt', 'D:/postgraduate/dataset/mil4wsi-main/lungGraph_13/processed\\\\train\\\\data_841.pt', 'D:/postgraduate/dataset/mil4wsi-main/lungGraph_13/processed\\\\train\\\\data_842.pt', 'D:/postgraduate/dataset/mil4wsi-main/lungGraph_13/processed\\\\train\\\\data_843.pt', 'D:/postgraduate/dataset/mil4wsi-main/lungGraph_13/processed\\\\train\\\\data_844.pt', 'D:/postgraduate/dataset/mil4wsi-main/lungGraph_13/processed\\\\train\\\\data_845.pt', 'D:/postgraduate/dataset/mil4wsi-main/lungGraph_13/processed\\\\train\\\\data_846.pt', 'D:/postgraduate/dataset/mil4wsi-main/lungGraph_13/processed\\\\train\\\\data_847.pt', 'D:/postgraduate/dataset/mil4wsi-main/lungGraph_13/processed\\\\train\\\\data_85.pt', 'D:/postgraduate/dataset/mil4wsi-main/lungGraph_13/processed\\\\train\\\\data_850.pt', 'D:/postgraduate/dataset/mil4wsi-main/lungGraph_13/processed\\\\train\\\\data_851.pt', 'D:/postgraduate/dataset/mil4wsi-main/lungGraph_13/processed\\\\train\\\\data_853.pt', 'D:/postgraduate/dataset/mil4wsi-main/lungGraph_13/processed\\\\train\\\\data_855.pt', 'D:/postgraduate/dataset/mil4wsi-main/lungGraph_13/processed\\\\train\\\\data_857.pt', 'D:/postgraduate/dataset/mil4wsi-main/lungGraph_13/processed\\\\train\\\\data_859.pt', 'D:/postgraduate/dataset/mil4wsi-main/lungGraph_13/processed\\\\train\\\\data_86.pt', 'D:/postgraduate/dataset/mil4wsi-main/lungGraph_13/processed\\\\train\\\\data_860.pt', 'D:/postgraduate/dataset/mil4wsi-main/lungGraph_13/processed\\\\train\\\\data_862.pt', 'D:/postgraduate/dataset/mil4wsi-main/lungGraph_13/processed\\\\train\\\\data_863.pt', 'D:/postgraduate/dataset/mil4wsi-main/lungGraph_13/processed\\\\train\\\\data_864.pt', 'D:/postgraduate/dataset/mil4wsi-main/lungGraph_13/processed\\\\train\\\\data_865.pt', 'D:/postgraduate/dataset/mil4wsi-main/lungGraph_13/processed\\\\train\\\\data_866.pt', 'D:/postgraduate/dataset/mil4wsi-main/lungGraph_13/processed\\\\train\\\\data_867.pt', 'D:/postgraduate/dataset/mil4wsi-main/lungGraph_13/processed\\\\train\\\\data_868.pt', 'D:/postgraduate/dataset/mil4wsi-main/lungGraph_13/processed\\\\train\\\\data_869.pt', 'D:/postgraduate/dataset/mil4wsi-main/lungGraph_13/processed\\\\train\\\\data_870.pt', 'D:/postgraduate/dataset/mil4wsi-main/lungGraph_13/processed\\\\train\\\\data_873.pt', 'D:/postgraduate/dataset/mil4wsi-main/lungGraph_13/processed\\\\train\\\\data_875.pt', 'D:/postgraduate/dataset/mil4wsi-main/lungGraph_13/processed\\\\train\\\\data_876.pt', 'D:/postgraduate/dataset/mil4wsi-main/lungGraph_13/processed\\\\train\\\\data_877.pt', 'D:/postgraduate/dataset/mil4wsi-main/lungGraph_13/processed\\\\train\\\\data_879.pt', 'D:/postgraduate/dataset/mil4wsi-main/lungGraph_13/processed\\\\train\\\\data_880.pt', 'D:/postgraduate/dataset/mil4wsi-main/lungGraph_13/processed\\\\train\\\\data_881.pt', 'D:/postgraduate/dataset/mil4wsi-main/lungGraph_13/processed\\\\train\\\\data_883.pt', 'D:/postgraduate/dataset/mil4wsi-main/lungGraph_13/processed\\\\train\\\\data_884.pt', 'D:/postgraduate/dataset/mil4wsi-main/lungGraph_13/processed\\\\train\\\\data_886.pt', 'D:/postgraduate/dataset/mil4wsi-main/lungGraph_13/processed\\\\train\\\\data_889.pt', 'D:/postgraduate/dataset/mil4wsi-main/lungGraph_13/processed\\\\train\\\\data_890.pt', 'D:/postgraduate/dataset/mil4wsi-main/lungGraph_13/processed\\\\train\\\\data_891.pt', 'D:/postgraduate/dataset/mil4wsi-main/lungGraph_13/processed\\\\train\\\\data_892.pt', 'D:/postgraduate/dataset/mil4wsi-main/lungGraph_13/processed\\\\train\\\\data_893.pt', 'D:/postgraduate/dataset/mil4wsi-main/lungGraph_13/processed\\\\train\\\\data_894.pt', 'D:/postgraduate/dataset/mil4wsi-main/lungGraph_13/processed\\\\train\\\\data_895.pt', 'D:/postgraduate/dataset/mil4wsi-main/lungGraph_13/processed\\\\train\\\\data_896.pt', 'D:/postgraduate/dataset/mil4wsi-main/lungGraph_13/processed\\\\train\\\\data_897.pt', 'D:/postgraduate/dataset/mil4wsi-main/lungGraph_13/processed\\\\train\\\\data_898.pt', 'D:/postgraduate/dataset/mil4wsi-main/lungGraph_13/processed\\\\train\\\\data_899.pt', 'D:/postgraduate/dataset/mil4wsi-main/lungGraph_13/processed\\\\train\\\\data_9.pt', 'D:/postgraduate/dataset/mil4wsi-main/lungGraph_13/processed\\\\train\\\\data_900.pt', 'D:/postgraduate/dataset/mil4wsi-main/lungGraph_13/processed\\\\train\\\\data_902.pt', 'D:/postgraduate/dataset/mil4wsi-main/lungGraph_13/processed\\\\train\\\\data_903.pt', 'D:/postgraduate/dataset/mil4wsi-main/lungGraph_13/processed\\\\train\\\\data_904.pt', 'D:/postgraduate/dataset/mil4wsi-main/lungGraph_13/processed\\\\train\\\\data_905.pt', 'D:/postgraduate/dataset/mil4wsi-main/lungGraph_13/processed\\\\train\\\\data_906.pt', 'D:/postgraduate/dataset/mil4wsi-main/lungGraph_13/processed\\\\train\\\\data_907.pt', 'D:/postgraduate/dataset/mil4wsi-main/lungGraph_13/processed\\\\train\\\\data_908.pt', 'D:/postgraduate/dataset/mil4wsi-main/lungGraph_13/processed\\\\train\\\\data_91.pt', 'D:/postgraduate/dataset/mil4wsi-main/lungGraph_13/processed\\\\train\\\\data_910.pt', 'D:/postgraduate/dataset/mil4wsi-main/lungGraph_13/processed\\\\train\\\\data_912.pt', 'D:/postgraduate/dataset/mil4wsi-main/lungGraph_13/processed\\\\train\\\\data_913.pt', 'D:/postgraduate/dataset/mil4wsi-main/lungGraph_13/processed\\\\train\\\\data_915.pt', 'D:/postgraduate/dataset/mil4wsi-main/lungGraph_13/processed\\\\train\\\\data_917.pt', 'D:/postgraduate/dataset/mil4wsi-main/lungGraph_13/processed\\\\train\\\\data_918.pt', 'D:/postgraduate/dataset/mil4wsi-main/lungGraph_13/processed\\\\train\\\\data_919.pt', 'D:/postgraduate/dataset/mil4wsi-main/lungGraph_13/processed\\\\train\\\\data_920.pt', 'D:/postgraduate/dataset/mil4wsi-main/lungGraph_13/processed\\\\train\\\\data_921.pt', 'D:/postgraduate/dataset/mil4wsi-main/lungGraph_13/processed\\\\train\\\\data_923.pt', 'D:/postgraduate/dataset/mil4wsi-main/lungGraph_13/processed\\\\train\\\\data_924.pt', 'D:/postgraduate/dataset/mil4wsi-main/lungGraph_13/processed\\\\train\\\\data_925.pt', 'D:/postgraduate/dataset/mil4wsi-main/lungGraph_13/processed\\\\train\\\\data_926.pt', 'D:/postgraduate/dataset/mil4wsi-main/lungGraph_13/processed\\\\train\\\\data_927.pt', 'D:/postgraduate/dataset/mil4wsi-main/lungGraph_13/processed\\\\train\\\\data_928.pt', 'D:/postgraduate/dataset/mil4wsi-main/lungGraph_13/processed\\\\train\\\\data_929.pt', 'D:/postgraduate/dataset/mil4wsi-main/lungGraph_13/processed\\\\train\\\\data_93.pt', 'D:/postgraduate/dataset/mil4wsi-main/lungGraph_13/processed\\\\train\\\\data_930.pt', 'D:/postgraduate/dataset/mil4wsi-main/lungGraph_13/processed\\\\train\\\\data_931.pt', 'D:/postgraduate/dataset/mil4wsi-main/lungGraph_13/processed\\\\train\\\\data_932.pt', 'D:/postgraduate/dataset/mil4wsi-main/lungGraph_13/processed\\\\train\\\\data_933.pt', 'D:/postgraduate/dataset/mil4wsi-main/lungGraph_13/processed\\\\train\\\\data_935.pt', 'D:/postgraduate/dataset/mil4wsi-main/lungGraph_13/processed\\\\train\\\\data_936.pt', 'D:/postgraduate/dataset/mil4wsi-main/lungGraph_13/processed\\\\train\\\\data_937.pt', 'D:/postgraduate/dataset/mil4wsi-main/lungGraph_13/processed\\\\train\\\\data_938.pt', 'D:/postgraduate/dataset/mil4wsi-main/lungGraph_13/processed\\\\train\\\\data_940.pt', 'D:/postgraduate/dataset/mil4wsi-main/lungGraph_13/processed\\\\train\\\\data_941.pt', 'D:/postgraduate/dataset/mil4wsi-main/lungGraph_13/processed\\\\train\\\\data_942.pt', 'D:/postgraduate/dataset/mil4wsi-main/lungGraph_13/processed\\\\train\\\\data_943.pt', 'D:/postgraduate/dataset/mil4wsi-main/lungGraph_13/processed\\\\train\\\\data_944.pt', 'D:/postgraduate/dataset/mil4wsi-main/lungGraph_13/processed\\\\train\\\\data_946.pt', 'D:/postgraduate/dataset/mil4wsi-main/lungGraph_13/processed\\\\train\\\\data_947.pt', 'D:/postgraduate/dataset/mil4wsi-main/lungGraph_13/processed\\\\train\\\\data_948.pt', 'D:/postgraduate/dataset/mil4wsi-main/lungGraph_13/processed\\\\train\\\\data_95.pt', 'D:/postgraduate/dataset/mil4wsi-main/lungGraph_13/processed\\\\train\\\\data_950.pt', 'D:/postgraduate/dataset/mil4wsi-main/lungGraph_13/processed\\\\train\\\\data_951.pt', 'D:/postgraduate/dataset/mil4wsi-main/lungGraph_13/processed\\\\train\\\\data_952.pt', 'D:/postgraduate/dataset/mil4wsi-main/lungGraph_13/processed\\\\train\\\\data_953.pt', 'D:/postgraduate/dataset/mil4wsi-main/lungGraph_13/processed\\\\train\\\\data_954.pt', 'D:/postgraduate/dataset/mil4wsi-main/lungGraph_13/processed\\\\train\\\\data_955.pt', 'D:/postgraduate/dataset/mil4wsi-main/lungGraph_13/processed\\\\train\\\\data_956.pt', 'D:/postgraduate/dataset/mil4wsi-main/lungGraph_13/processed\\\\train\\\\data_958.pt', 'D:/postgraduate/dataset/mil4wsi-main/lungGraph_13/processed\\\\train\\\\data_96.pt', 'D:/postgraduate/dataset/mil4wsi-main/lungGraph_13/processed\\\\train\\\\data_960.pt', 'D:/postgraduate/dataset/mil4wsi-main/lungGraph_13/processed\\\\train\\\\data_961.pt', 'D:/postgraduate/dataset/mil4wsi-main/lungGraph_13/processed\\\\train\\\\data_962.pt', 'D:/postgraduate/dataset/mil4wsi-main/lungGraph_13/processed\\\\train\\\\data_963.pt', 'D:/postgraduate/dataset/mil4wsi-main/lungGraph_13/processed\\\\train\\\\data_964.pt', 'D:/postgraduate/dataset/mil4wsi-main/lungGraph_13/processed\\\\train\\\\data_965.pt', 'D:/postgraduate/dataset/mil4wsi-main/lungGraph_13/processed\\\\train\\\\data_966.pt', 'D:/postgraduate/dataset/mil4wsi-main/lungGraph_13/processed\\\\train\\\\data_967.pt', 'D:/postgraduate/dataset/mil4wsi-main/lungGraph_13/processed\\\\train\\\\data_968.pt', 'D:/postgraduate/dataset/mil4wsi-main/lungGraph_13/processed\\\\train\\\\data_97.pt', 'D:/postgraduate/dataset/mil4wsi-main/lungGraph_13/processed\\\\train\\\\data_970.pt', 'D:/postgraduate/dataset/mil4wsi-main/lungGraph_13/processed\\\\train\\\\data_971.pt', 'D:/postgraduate/dataset/mil4wsi-main/lungGraph_13/processed\\\\train\\\\data_972.pt', 'D:/postgraduate/dataset/mil4wsi-main/lungGraph_13/processed\\\\train\\\\data_973.pt', 'D:/postgraduate/dataset/mil4wsi-main/lungGraph_13/processed\\\\train\\\\data_974.pt', 'D:/postgraduate/dataset/mil4wsi-main/lungGraph_13/processed\\\\train\\\\data_976.pt', 'D:/postgraduate/dataset/mil4wsi-main/lungGraph_13/processed\\\\train\\\\data_978.pt', 'D:/postgraduate/dataset/mil4wsi-main/lungGraph_13/processed\\\\train\\\\data_979.pt', 'D:/postgraduate/dataset/mil4wsi-main/lungGraph_13/processed\\\\train\\\\data_98.pt', 'D:/postgraduate/dataset/mil4wsi-main/lungGraph_13/processed\\\\train\\\\data_980.pt', 'D:/postgraduate/dataset/mil4wsi-main/lungGraph_13/processed\\\\train\\\\data_981.pt', 'D:/postgraduate/dataset/mil4wsi-main/lungGraph_13/processed\\\\train\\\\data_982.pt', 'D:/postgraduate/dataset/mil4wsi-main/lungGraph_13/processed\\\\train\\\\data_983.pt', 'D:/postgraduate/dataset/mil4wsi-main/lungGraph_13/processed\\\\train\\\\data_984.pt', 'D:/postgraduate/dataset/mil4wsi-main/lungGraph_13/processed\\\\train\\\\data_986.pt', 'D:/postgraduate/dataset/mil4wsi-main/lungGraph_13/processed\\\\train\\\\data_987.pt', 'D:/postgraduate/dataset/mil4wsi-main/lungGraph_13/processed\\\\train\\\\data_988.pt', 'D:/postgraduate/dataset/mil4wsi-main/lungGraph_13/processed\\\\train\\\\data_989.pt', 'D:/postgraduate/dataset/mil4wsi-main/lungGraph_13/processed\\\\train\\\\data_991.pt', 'D:/postgraduate/dataset/mil4wsi-main/lungGraph_13/processed\\\\train\\\\data_992.pt', 'D:/postgraduate/dataset/mil4wsi-main/lungGraph_13/processed\\\\train\\\\data_993.pt', 'D:/postgraduate/dataset/mil4wsi-main/lungGraph_13/processed\\\\train\\\\data_994.pt', 'D:/postgraduate/dataset/mil4wsi-main/lungGraph_13/processed\\\\train\\\\data_995.pt', 'D:/postgraduate/dataset/mil4wsi-main/lungGraph_13/processed\\\\train\\\\data_996.pt', 'D:/postgraduate/dataset/mil4wsi-main/lungGraph_13/processed\\\\train\\\\data_997.pt', 'D:/postgraduate/dataset/mil4wsi-main/lungGraph_13/processed\\\\train\\\\data_998.pt', 'D:/postgraduate/dataset/mil4wsi-main/lungGraph_13/processed\\\\train\\\\data_999.pt']\n"
          ]
        },
        {
          "name": "stderr",
          "output_type": "stream",
          "text": [
            "C:\\Users\\11319\\AppData\\Local\\Temp\\ipykernel_34000\\2724482428.py:7: FutureWarning: You are using `torch.load` with `weights_only=False` (the current default value), which uses the default pickle module implicitly. It is possible to construct malicious pickle data which will execute arbitrary code during unpickling (See https://github.com/pytorch/pytorch/blob/main/SECURITY.md#untrusted-models for more details). In a future release, the default value for `weights_only` will be flipped to `True`. This limits the functions that could be executed during unpickling. Arbitrary objects will no longer be allowed to be loaded via this mode unless they are explicitly allowlisted by the user via `torch.serialization.add_safe_globals`. We recommend you start setting `weights_only=True` for any use case where you don't have full control of the loaded file. Please open an issue on GitHub for any issues related to this experimental feature.\n",
            "  self.slides=[torch.load(self.data[idx]) for idx in range(len(self.data))]\n"
          ]
        },
        {
          "name": "stdout",
          "output_type": "stream",
          "text": [
            "['D:/postgraduate/dataset/mil4wsi-main/lungGraph_13/processed\\\\test\\\\data_0.pt', 'D:/postgraduate/dataset/mil4wsi-main/lungGraph_13/processed\\\\test\\\\data_1003.pt', 'D:/postgraduate/dataset/mil4wsi-main/lungGraph_13/processed\\\\test\\\\data_1007.pt', 'D:/postgraduate/dataset/mil4wsi-main/lungGraph_13/processed\\\\test\\\\data_1010.pt', 'D:/postgraduate/dataset/mil4wsi-main/lungGraph_13/processed\\\\test\\\\data_1023.pt', 'D:/postgraduate/dataset/mil4wsi-main/lungGraph_13/processed\\\\test\\\\data_1025.pt', 'D:/postgraduate/dataset/mil4wsi-main/lungGraph_13/processed\\\\test\\\\data_1027.pt', 'D:/postgraduate/dataset/mil4wsi-main/lungGraph_13/processed\\\\test\\\\data_1032.pt', 'D:/postgraduate/dataset/mil4wsi-main/lungGraph_13/processed\\\\test\\\\data_1035.pt', 'D:/postgraduate/dataset/mil4wsi-main/lungGraph_13/processed\\\\test\\\\data_1037.pt', 'D:/postgraduate/dataset/mil4wsi-main/lungGraph_13/processed\\\\test\\\\data_1038.pt', 'D:/postgraduate/dataset/mil4wsi-main/lungGraph_13/processed\\\\test\\\\data_105.pt', 'D:/postgraduate/dataset/mil4wsi-main/lungGraph_13/processed\\\\test\\\\data_114.pt', 'D:/postgraduate/dataset/mil4wsi-main/lungGraph_13/processed\\\\test\\\\data_118.pt', 'D:/postgraduate/dataset/mil4wsi-main/lungGraph_13/processed\\\\test\\\\data_119.pt', 'D:/postgraduate/dataset/mil4wsi-main/lungGraph_13/processed\\\\test\\\\data_12.pt', 'D:/postgraduate/dataset/mil4wsi-main/lungGraph_13/processed\\\\test\\\\data_123.pt', 'D:/postgraduate/dataset/mil4wsi-main/lungGraph_13/processed\\\\test\\\\data_126.pt', 'D:/postgraduate/dataset/mil4wsi-main/lungGraph_13/processed\\\\test\\\\data_128.pt', 'D:/postgraduate/dataset/mil4wsi-main/lungGraph_13/processed\\\\test\\\\data_129.pt', 'D:/postgraduate/dataset/mil4wsi-main/lungGraph_13/processed\\\\test\\\\data_133.pt', 'D:/postgraduate/dataset/mil4wsi-main/lungGraph_13/processed\\\\test\\\\data_146.pt', 'D:/postgraduate/dataset/mil4wsi-main/lungGraph_13/processed\\\\test\\\\data_148.pt', 'D:/postgraduate/dataset/mil4wsi-main/lungGraph_13/processed\\\\test\\\\data_15.pt', 'D:/postgraduate/dataset/mil4wsi-main/lungGraph_13/processed\\\\test\\\\data_150.pt', 'D:/postgraduate/dataset/mil4wsi-main/lungGraph_13/processed\\\\test\\\\data_163.pt', 'D:/postgraduate/dataset/mil4wsi-main/lungGraph_13/processed\\\\test\\\\data_185.pt', 'D:/postgraduate/dataset/mil4wsi-main/lungGraph_13/processed\\\\test\\\\data_201.pt', 'D:/postgraduate/dataset/mil4wsi-main/lungGraph_13/processed\\\\test\\\\data_210.pt', 'D:/postgraduate/dataset/mil4wsi-main/lungGraph_13/processed\\\\test\\\\data_218.pt', 'D:/postgraduate/dataset/mil4wsi-main/lungGraph_13/processed\\\\test\\\\data_22.pt', 'D:/postgraduate/dataset/mil4wsi-main/lungGraph_13/processed\\\\test\\\\data_226.pt', 'D:/postgraduate/dataset/mil4wsi-main/lungGraph_13/processed\\\\test\\\\data_227.pt', 'D:/postgraduate/dataset/mil4wsi-main/lungGraph_13/processed\\\\test\\\\data_23.pt', 'D:/postgraduate/dataset/mil4wsi-main/lungGraph_13/processed\\\\test\\\\data_234.pt', 'D:/postgraduate/dataset/mil4wsi-main/lungGraph_13/processed\\\\test\\\\data_243.pt', 'D:/postgraduate/dataset/mil4wsi-main/lungGraph_13/processed\\\\test\\\\data_259.pt', 'D:/postgraduate/dataset/mil4wsi-main/lungGraph_13/processed\\\\test\\\\data_26.pt', 'D:/postgraduate/dataset/mil4wsi-main/lungGraph_13/processed\\\\test\\\\data_261.pt', 'D:/postgraduate/dataset/mil4wsi-main/lungGraph_13/processed\\\\test\\\\data_262.pt', 'D:/postgraduate/dataset/mil4wsi-main/lungGraph_13/processed\\\\test\\\\data_263.pt', 'D:/postgraduate/dataset/mil4wsi-main/lungGraph_13/processed\\\\test\\\\data_267.pt', 'D:/postgraduate/dataset/mil4wsi-main/lungGraph_13/processed\\\\test\\\\data_270.pt', 'D:/postgraduate/dataset/mil4wsi-main/lungGraph_13/processed\\\\test\\\\data_278.pt', 'D:/postgraduate/dataset/mil4wsi-main/lungGraph_13/processed\\\\test\\\\data_28.pt', 'D:/postgraduate/dataset/mil4wsi-main/lungGraph_13/processed\\\\test\\\\data_285.pt', 'D:/postgraduate/dataset/mil4wsi-main/lungGraph_13/processed\\\\test\\\\data_290.pt', 'D:/postgraduate/dataset/mil4wsi-main/lungGraph_13/processed\\\\test\\\\data_292.pt', 'D:/postgraduate/dataset/mil4wsi-main/lungGraph_13/processed\\\\test\\\\data_293.pt', 'D:/postgraduate/dataset/mil4wsi-main/lungGraph_13/processed\\\\test\\\\data_298.pt', 'D:/postgraduate/dataset/mil4wsi-main/lungGraph_13/processed\\\\test\\\\data_299.pt', 'D:/postgraduate/dataset/mil4wsi-main/lungGraph_13/processed\\\\test\\\\data_306.pt', 'D:/postgraduate/dataset/mil4wsi-main/lungGraph_13/processed\\\\test\\\\data_31.pt', 'D:/postgraduate/dataset/mil4wsi-main/lungGraph_13/processed\\\\test\\\\data_310.pt', 'D:/postgraduate/dataset/mil4wsi-main/lungGraph_13/processed\\\\test\\\\data_313.pt', 'D:/postgraduate/dataset/mil4wsi-main/lungGraph_13/processed\\\\test\\\\data_315.pt', 'D:/postgraduate/dataset/mil4wsi-main/lungGraph_13/processed\\\\test\\\\data_323.pt', 'D:/postgraduate/dataset/mil4wsi-main/lungGraph_13/processed\\\\test\\\\data_325.pt', 'D:/postgraduate/dataset/mil4wsi-main/lungGraph_13/processed\\\\test\\\\data_338.pt', 'D:/postgraduate/dataset/mil4wsi-main/lungGraph_13/processed\\\\test\\\\data_342.pt', 'D:/postgraduate/dataset/mil4wsi-main/lungGraph_13/processed\\\\test\\\\data_35.pt', 'D:/postgraduate/dataset/mil4wsi-main/lungGraph_13/processed\\\\test\\\\data_351.pt', 'D:/postgraduate/dataset/mil4wsi-main/lungGraph_13/processed\\\\test\\\\data_355.pt', 'D:/postgraduate/dataset/mil4wsi-main/lungGraph_13/processed\\\\test\\\\data_357.pt', 'D:/postgraduate/dataset/mil4wsi-main/lungGraph_13/processed\\\\test\\\\data_36.pt', 'D:/postgraduate/dataset/mil4wsi-main/lungGraph_13/processed\\\\test\\\\data_361.pt', 'D:/postgraduate/dataset/mil4wsi-main/lungGraph_13/processed\\\\test\\\\data_37.pt', 'D:/postgraduate/dataset/mil4wsi-main/lungGraph_13/processed\\\\test\\\\data_375.pt', 'D:/postgraduate/dataset/mil4wsi-main/lungGraph_13/processed\\\\test\\\\data_378.pt', 'D:/postgraduate/dataset/mil4wsi-main/lungGraph_13/processed\\\\test\\\\data_381.pt', 'D:/postgraduate/dataset/mil4wsi-main/lungGraph_13/processed\\\\test\\\\data_387.pt', 'D:/postgraduate/dataset/mil4wsi-main/lungGraph_13/processed\\\\test\\\\data_389.pt', 'D:/postgraduate/dataset/mil4wsi-main/lungGraph_13/processed\\\\test\\\\data_393.pt', 'D:/postgraduate/dataset/mil4wsi-main/lungGraph_13/processed\\\\test\\\\data_395.pt', 'D:/postgraduate/dataset/mil4wsi-main/lungGraph_13/processed\\\\test\\\\data_403.pt', 'D:/postgraduate/dataset/mil4wsi-main/lungGraph_13/processed\\\\test\\\\data_404.pt', 'D:/postgraduate/dataset/mil4wsi-main/lungGraph_13/processed\\\\test\\\\data_407.pt', 'D:/postgraduate/dataset/mil4wsi-main/lungGraph_13/processed\\\\test\\\\data_413.pt', 'D:/postgraduate/dataset/mil4wsi-main/lungGraph_13/processed\\\\test\\\\data_421.pt', 'D:/postgraduate/dataset/mil4wsi-main/lungGraph_13/processed\\\\test\\\\data_424.pt', 'D:/postgraduate/dataset/mil4wsi-main/lungGraph_13/processed\\\\test\\\\data_427.pt', 'D:/postgraduate/dataset/mil4wsi-main/lungGraph_13/processed\\\\test\\\\data_428.pt', 'D:/postgraduate/dataset/mil4wsi-main/lungGraph_13/processed\\\\test\\\\data_434.pt', 'D:/postgraduate/dataset/mil4wsi-main/lungGraph_13/processed\\\\test\\\\data_441.pt', 'D:/postgraduate/dataset/mil4wsi-main/lungGraph_13/processed\\\\test\\\\data_442.pt', 'D:/postgraduate/dataset/mil4wsi-main/lungGraph_13/processed\\\\test\\\\data_444.pt', 'D:/postgraduate/dataset/mil4wsi-main/lungGraph_13/processed\\\\test\\\\data_445.pt', 'D:/postgraduate/dataset/mil4wsi-main/lungGraph_13/processed\\\\test\\\\data_447.pt', 'D:/postgraduate/dataset/mil4wsi-main/lungGraph_13/processed\\\\test\\\\data_471.pt', 'D:/postgraduate/dataset/mil4wsi-main/lungGraph_13/processed\\\\test\\\\data_478.pt', 'D:/postgraduate/dataset/mil4wsi-main/lungGraph_13/processed\\\\test\\\\data_480.pt', 'D:/postgraduate/dataset/mil4wsi-main/lungGraph_13/processed\\\\test\\\\data_482.pt', 'D:/postgraduate/dataset/mil4wsi-main/lungGraph_13/processed\\\\test\\\\data_483.pt', 'D:/postgraduate/dataset/mil4wsi-main/lungGraph_13/processed\\\\test\\\\data_485.pt', 'D:/postgraduate/dataset/mil4wsi-main/lungGraph_13/processed\\\\test\\\\data_490.pt', 'D:/postgraduate/dataset/mil4wsi-main/lungGraph_13/processed\\\\test\\\\data_497.pt', 'D:/postgraduate/dataset/mil4wsi-main/lungGraph_13/processed\\\\test\\\\data_503.pt', 'D:/postgraduate/dataset/mil4wsi-main/lungGraph_13/processed\\\\test\\\\data_504.pt', 'D:/postgraduate/dataset/mil4wsi-main/lungGraph_13/processed\\\\test\\\\data_515.pt', 'D:/postgraduate/dataset/mil4wsi-main/lungGraph_13/processed\\\\test\\\\data_520.pt', 'D:/postgraduate/dataset/mil4wsi-main/lungGraph_13/processed\\\\test\\\\data_523.pt', 'D:/postgraduate/dataset/mil4wsi-main/lungGraph_13/processed\\\\test\\\\data_525.pt', 'D:/postgraduate/dataset/mil4wsi-main/lungGraph_13/processed\\\\test\\\\data_526.pt', 'D:/postgraduate/dataset/mil4wsi-main/lungGraph_13/processed\\\\test\\\\data_529.pt', 'D:/postgraduate/dataset/mil4wsi-main/lungGraph_13/processed\\\\test\\\\data_540.pt', 'D:/postgraduate/dataset/mil4wsi-main/lungGraph_13/processed\\\\test\\\\data_543.pt', 'D:/postgraduate/dataset/mil4wsi-main/lungGraph_13/processed\\\\test\\\\data_549.pt', 'D:/postgraduate/dataset/mil4wsi-main/lungGraph_13/processed\\\\test\\\\data_56.pt', 'D:/postgraduate/dataset/mil4wsi-main/lungGraph_13/processed\\\\test\\\\data_567.pt', 'D:/postgraduate/dataset/mil4wsi-main/lungGraph_13/processed\\\\test\\\\data_568.pt', 'D:/postgraduate/dataset/mil4wsi-main/lungGraph_13/processed\\\\test\\\\data_571.pt', 'D:/postgraduate/dataset/mil4wsi-main/lungGraph_13/processed\\\\test\\\\data_576.pt', 'D:/postgraduate/dataset/mil4wsi-main/lungGraph_13/processed\\\\test\\\\data_580.pt', 'D:/postgraduate/dataset/mil4wsi-main/lungGraph_13/processed\\\\test\\\\data_588.pt', 'D:/postgraduate/dataset/mil4wsi-main/lungGraph_13/processed\\\\test\\\\data_59.pt', 'D:/postgraduate/dataset/mil4wsi-main/lungGraph_13/processed\\\\test\\\\data_602.pt', 'D:/postgraduate/dataset/mil4wsi-main/lungGraph_13/processed\\\\test\\\\data_607.pt', 'D:/postgraduate/dataset/mil4wsi-main/lungGraph_13/processed\\\\test\\\\data_610.pt', 'D:/postgraduate/dataset/mil4wsi-main/lungGraph_13/processed\\\\test\\\\data_614.pt', 'D:/postgraduate/dataset/mil4wsi-main/lungGraph_13/processed\\\\test\\\\data_619.pt', 'D:/postgraduate/dataset/mil4wsi-main/lungGraph_13/processed\\\\test\\\\data_62.pt', 'D:/postgraduate/dataset/mil4wsi-main/lungGraph_13/processed\\\\test\\\\data_620.pt', 'D:/postgraduate/dataset/mil4wsi-main/lungGraph_13/processed\\\\test\\\\data_629.pt', 'D:/postgraduate/dataset/mil4wsi-main/lungGraph_13/processed\\\\test\\\\data_630.pt', 'D:/postgraduate/dataset/mil4wsi-main/lungGraph_13/processed\\\\test\\\\data_633.pt', 'D:/postgraduate/dataset/mil4wsi-main/lungGraph_13/processed\\\\test\\\\data_636.pt', 'D:/postgraduate/dataset/mil4wsi-main/lungGraph_13/processed\\\\test\\\\data_639.pt', 'D:/postgraduate/dataset/mil4wsi-main/lungGraph_13/processed\\\\test\\\\data_646.pt', 'D:/postgraduate/dataset/mil4wsi-main/lungGraph_13/processed\\\\test\\\\data_649.pt', 'D:/postgraduate/dataset/mil4wsi-main/lungGraph_13/processed\\\\test\\\\data_655.pt', 'D:/postgraduate/dataset/mil4wsi-main/lungGraph_13/processed\\\\test\\\\data_656.pt', 'D:/postgraduate/dataset/mil4wsi-main/lungGraph_13/processed\\\\test\\\\data_657.pt', 'D:/postgraduate/dataset/mil4wsi-main/lungGraph_13/processed\\\\test\\\\data_658.pt', 'D:/postgraduate/dataset/mil4wsi-main/lungGraph_13/processed\\\\test\\\\data_66.pt', 'D:/postgraduate/dataset/mil4wsi-main/lungGraph_13/processed\\\\test\\\\data_662.pt', 'D:/postgraduate/dataset/mil4wsi-main/lungGraph_13/processed\\\\test\\\\data_666.pt', 'D:/postgraduate/dataset/mil4wsi-main/lungGraph_13/processed\\\\test\\\\data_669.pt', 'D:/postgraduate/dataset/mil4wsi-main/lungGraph_13/processed\\\\test\\\\data_670.pt', 'D:/postgraduate/dataset/mil4wsi-main/lungGraph_13/processed\\\\test\\\\data_679.pt', 'D:/postgraduate/dataset/mil4wsi-main/lungGraph_13/processed\\\\test\\\\data_682.pt', 'D:/postgraduate/dataset/mil4wsi-main/lungGraph_13/processed\\\\test\\\\data_684.pt', 'D:/postgraduate/dataset/mil4wsi-main/lungGraph_13/processed\\\\test\\\\data_690.pt', 'D:/postgraduate/dataset/mil4wsi-main/lungGraph_13/processed\\\\test\\\\data_691.pt', 'D:/postgraduate/dataset/mil4wsi-main/lungGraph_13/processed\\\\test\\\\data_698.pt', 'D:/postgraduate/dataset/mil4wsi-main/lungGraph_13/processed\\\\test\\\\data_701.pt', 'D:/postgraduate/dataset/mil4wsi-main/lungGraph_13/processed\\\\test\\\\data_704.pt', 'D:/postgraduate/dataset/mil4wsi-main/lungGraph_13/processed\\\\test\\\\data_705.pt', 'D:/postgraduate/dataset/mil4wsi-main/lungGraph_13/processed\\\\test\\\\data_709.pt', 'D:/postgraduate/dataset/mil4wsi-main/lungGraph_13/processed\\\\test\\\\data_710.pt', 'D:/postgraduate/dataset/mil4wsi-main/lungGraph_13/processed\\\\test\\\\data_731.pt', 'D:/postgraduate/dataset/mil4wsi-main/lungGraph_13/processed\\\\test\\\\data_732.pt', 'D:/postgraduate/dataset/mil4wsi-main/lungGraph_13/processed\\\\test\\\\data_735.pt', 'D:/postgraduate/dataset/mil4wsi-main/lungGraph_13/processed\\\\test\\\\data_74.pt', 'D:/postgraduate/dataset/mil4wsi-main/lungGraph_13/processed\\\\test\\\\data_740.pt', 'D:/postgraduate/dataset/mil4wsi-main/lungGraph_13/processed\\\\test\\\\data_742.pt', 'D:/postgraduate/dataset/mil4wsi-main/lungGraph_13/processed\\\\test\\\\data_743.pt', 'D:/postgraduate/dataset/mil4wsi-main/lungGraph_13/processed\\\\test\\\\data_755.pt', 'D:/postgraduate/dataset/mil4wsi-main/lungGraph_13/processed\\\\test\\\\data_761.pt', 'D:/postgraduate/dataset/mil4wsi-main/lungGraph_13/processed\\\\test\\\\data_766.pt', 'D:/postgraduate/dataset/mil4wsi-main/lungGraph_13/processed\\\\test\\\\data_77.pt', 'D:/postgraduate/dataset/mil4wsi-main/lungGraph_13/processed\\\\test\\\\data_773.pt', 'D:/postgraduate/dataset/mil4wsi-main/lungGraph_13/processed\\\\test\\\\data_774.pt', 'D:/postgraduate/dataset/mil4wsi-main/lungGraph_13/processed\\\\test\\\\data_783.pt', 'D:/postgraduate/dataset/mil4wsi-main/lungGraph_13/processed\\\\test\\\\data_786.pt', 'D:/postgraduate/dataset/mil4wsi-main/lungGraph_13/processed\\\\test\\\\data_788.pt', 'D:/postgraduate/dataset/mil4wsi-main/lungGraph_13/processed\\\\test\\\\data_791.pt', 'D:/postgraduate/dataset/mil4wsi-main/lungGraph_13/processed\\\\test\\\\data_794.pt', 'D:/postgraduate/dataset/mil4wsi-main/lungGraph_13/processed\\\\test\\\\data_795.pt', 'D:/postgraduate/dataset/mil4wsi-main/lungGraph_13/processed\\\\test\\\\data_798.pt', 'D:/postgraduate/dataset/mil4wsi-main/lungGraph_13/processed\\\\test\\\\data_802.pt', 'D:/postgraduate/dataset/mil4wsi-main/lungGraph_13/processed\\\\test\\\\data_813.pt', 'D:/postgraduate/dataset/mil4wsi-main/lungGraph_13/processed\\\\test\\\\data_831.pt', 'D:/postgraduate/dataset/mil4wsi-main/lungGraph_13/processed\\\\test\\\\data_838.pt', 'D:/postgraduate/dataset/mil4wsi-main/lungGraph_13/processed\\\\test\\\\data_848.pt', 'D:/postgraduate/dataset/mil4wsi-main/lungGraph_13/processed\\\\test\\\\data_849.pt', 'D:/postgraduate/dataset/mil4wsi-main/lungGraph_13/processed\\\\test\\\\data_852.pt', 'D:/postgraduate/dataset/mil4wsi-main/lungGraph_13/processed\\\\test\\\\data_854.pt', 'D:/postgraduate/dataset/mil4wsi-main/lungGraph_13/processed\\\\test\\\\data_856.pt', 'D:/postgraduate/dataset/mil4wsi-main/lungGraph_13/processed\\\\test\\\\data_858.pt', 'D:/postgraduate/dataset/mil4wsi-main/lungGraph_13/processed\\\\test\\\\data_861.pt', 'D:/postgraduate/dataset/mil4wsi-main/lungGraph_13/processed\\\\test\\\\data_87.pt', 'D:/postgraduate/dataset/mil4wsi-main/lungGraph_13/processed\\\\test\\\\data_871.pt', 'D:/postgraduate/dataset/mil4wsi-main/lungGraph_13/processed\\\\test\\\\data_872.pt', 'D:/postgraduate/dataset/mil4wsi-main/lungGraph_13/processed\\\\test\\\\data_874.pt', 'D:/postgraduate/dataset/mil4wsi-main/lungGraph_13/processed\\\\test\\\\data_878.pt', 'D:/postgraduate/dataset/mil4wsi-main/lungGraph_13/processed\\\\test\\\\data_88.pt', 'D:/postgraduate/dataset/mil4wsi-main/lungGraph_13/processed\\\\test\\\\data_882.pt', 'D:/postgraduate/dataset/mil4wsi-main/lungGraph_13/processed\\\\test\\\\data_885.pt', 'D:/postgraduate/dataset/mil4wsi-main/lungGraph_13/processed\\\\test\\\\data_887.pt', 'D:/postgraduate/dataset/mil4wsi-main/lungGraph_13/processed\\\\test\\\\data_888.pt', 'D:/postgraduate/dataset/mil4wsi-main/lungGraph_13/processed\\\\test\\\\data_89.pt', 'D:/postgraduate/dataset/mil4wsi-main/lungGraph_13/processed\\\\test\\\\data_90.pt', 'D:/postgraduate/dataset/mil4wsi-main/lungGraph_13/processed\\\\test\\\\data_901.pt', 'D:/postgraduate/dataset/mil4wsi-main/lungGraph_13/processed\\\\test\\\\data_909.pt', 'D:/postgraduate/dataset/mil4wsi-main/lungGraph_13/processed\\\\test\\\\data_911.pt', 'D:/postgraduate/dataset/mil4wsi-main/lungGraph_13/processed\\\\test\\\\data_914.pt', 'D:/postgraduate/dataset/mil4wsi-main/lungGraph_13/processed\\\\test\\\\data_916.pt', 'D:/postgraduate/dataset/mil4wsi-main/lungGraph_13/processed\\\\test\\\\data_92.pt', 'D:/postgraduate/dataset/mil4wsi-main/lungGraph_13/processed\\\\test\\\\data_922.pt', 'D:/postgraduate/dataset/mil4wsi-main/lungGraph_13/processed\\\\test\\\\data_934.pt', 'D:/postgraduate/dataset/mil4wsi-main/lungGraph_13/processed\\\\test\\\\data_939.pt', 'D:/postgraduate/dataset/mil4wsi-main/lungGraph_13/processed\\\\test\\\\data_94.pt', 'D:/postgraduate/dataset/mil4wsi-main/lungGraph_13/processed\\\\test\\\\data_945.pt', 'D:/postgraduate/dataset/mil4wsi-main/lungGraph_13/processed\\\\test\\\\data_949.pt', 'D:/postgraduate/dataset/mil4wsi-main/lungGraph_13/processed\\\\test\\\\data_957.pt', 'D:/postgraduate/dataset/mil4wsi-main/lungGraph_13/processed\\\\test\\\\data_959.pt', 'D:/postgraduate/dataset/mil4wsi-main/lungGraph_13/processed\\\\test\\\\data_969.pt', 'D:/postgraduate/dataset/mil4wsi-main/lungGraph_13/processed\\\\test\\\\data_975.pt', 'D:/postgraduate/dataset/mil4wsi-main/lungGraph_13/processed\\\\test\\\\data_977.pt', 'D:/postgraduate/dataset/mil4wsi-main/lungGraph_13/processed\\\\test\\\\data_985.pt', 'D:/postgraduate/dataset/mil4wsi-main/lungGraph_13/processed\\\\test\\\\data_99.pt', 'D:/postgraduate/dataset/mil4wsi-main/lungGraph_13/processed\\\\test\\\\data_990.pt']\n"
          ]
        }
      ],
      "source": [
        "# @title Dataset\n",
        "class CustomDataset(Dataset):\n",
        "    def __init__(self,root,data_type):\n",
        "        self.path=os.path.join(root,data_type,\"*\")\n",
        "        self.data=glob.glob(self.path)\n",
        "        print(self.data)\n",
        "        self.slides=[torch.load(self.data[idx]) for idx in range(len(self.data))]\n",
        "\n",
        "    def __len__(self):\n",
        "        return len(self.data)\n",
        "\n",
        "    def __getitem__(self, idx):\n",
        "        sample = self.slides[idx]\n",
        "        return sample\n",
        "train_dataset=CustomDataset(data_root,\"train\")\n",
        "test_dataset=CustomDataset(data_root,\"test\")\n",
        "train_loader=DataLoader(train_dataset,batch_size=1,shuffle=True)\n",
        "test_loader=DataLoader(test_dataset,batch_size=1,shuffle=True)"
      ]
    },
    {
      "cell_type": "code",
      "execution_count": 23,
      "metadata": {
        "cellView": "form",
        "id": "LaLCA3s3y41l"
      },
      "outputs": [],
      "source": [
        "# @title General Parser\n",
        "def get_args():\n",
        "    parser = argparse.ArgumentParser(description='TRAIN DASMIL')\n",
        "\n",
        "    # Optimization arguments\n",
        "    group1 = parser.add_argument_group(\"optimization\")\n",
        "    group1.add_argument('--lr', default=0.0002,\n",
        "                        type=float, help='learning rate')\n",
        "    group1.add_argument('--weight_decay', default=0.005,\n",
        "                        type=float, help='Weight decay [5e-3]')\n",
        "\n",
        "    # GNN arguments\n",
        "    group2 = parser.add_argument_group(\"gnn\")\n",
        "    group2.add_argument('--residual', default=False, action=\"store_true\",)\n",
        "    group2.add_argument('--num_layers', default=1, type=int,\n",
        "                        help='number of Graph layers')\n",
        "    group2.add_argument('--dropout', default=True, action=\"store_true\")\n",
        "    group2.add_argument('--dropout_rate', default=0.2, type=float)\n",
        "    group2.add_argument('--layer_name', default=\"GAT\",\n",
        "                        type=str, help='layer graph name')\n",
        "    group2.add_argument('--heads', default=3, type=int,\n",
        "                        help='layer graph name')\n",
        "\n",
        "    # Training arguments\n",
        "    group3 = parser.add_argument_group(\"training\")\n",
        "    group3.add_argument('--seed', default=42, type=int,\n",
        "                        help='seed for reproducibility')\n",
        "    group3.add_argument('--n_epoch', default=200,\n",
        "                        type=int, help='number of epochs')\n",
        "\n",
        "    # Dimensions arguments\n",
        "    group4 = parser.add_argument_group(\"dimensions\")\n",
        "    group4.add_argument('--n_classes', default=1, type=int,\n",
        "                        help='Number of output classes [2]')\n",
        "    group4.add_argument('--c_hidden', default=384,\n",
        "                        type=int, help='intermediate size ')\n",
        "    group4.add_argument('--input_size', default=384,\n",
        "                        type=int, help='input size ')\n",
        "\n",
        "    # Dataset arguments\n",
        "    group5 = parser.add_argument_group(\"dataset\")\n",
        "    group5.add_argument('--scale', default=\"13\", type=str,\n",
        "                        help='scale resolution')\n",
        "    group5.add_argument('--dataset', default=\"lung\", type=str,\n",
        "                        choices=[\"cam\", \"lung\"], help='input size ')\n",
        "    group5.add_argument('--datasetpath',  type=str, help='dataset path')\n",
        "\n",
        "    # Distillation arguments\n",
        "    group6 = parser.add_argument_group(\"distillation\")\n",
        "    group6.add_argument('--lamb', default=1, type=float, help='lambda')\n",
        "    group6.add_argument('--beta', default=1, type=float, help='beta')\n",
        "    group6.add_argument('--temperature', default=1.5, type=float, help='temperature')\n",
        "    group6.add_argument('--add_bias', default=True,action=\"store_true\")\n",
        "    group6.add_argument('--max', default=True,action=\"store_true\")\n",
        "    group6.add_argument('--checkpoint', default=None,type=str, help='checkpoint')\n",
        "\n",
        "    parser.add_argument('--tag', default=\"split\", type=str, help='train strategy')\n",
        "    parser.add_argument('--modeltype', default=\"DASMIL\", type=str, help='train strategy')\n",
        "    parser.add_argument('--project', default=\"decider-lunggeom\", type=str, help='project name for wandb')\n",
        "    parser.add_argument('--model', default=\"decider-geom\", type=str, help='project name for wandb')\n",
        "    parser.add_argument('--wandbname', default=\"lungmain\", type=str, help='project name for wandb')\n",
        "\n",
        "\n",
        "    group7= parser.add_argument_group(\"submitit\")\n",
        "    group7.add_argument('--partition', default=\"prod\",type=str,help='partition name')\n",
        "    group7.add_argument('--time', default=120, type=float, help='job duration')\n",
        "    group7.add_argument('--nodes', default=1, type=int, help='number of jobs')\n",
        "    group7.add_argument('--job_name', default=\"dasmil\",type=str,help=\"job name\")\n",
        "    group7.add_argument('--mem', default=32, type=int, help='ram requested GB')\n",
        "    group7.add_argument('--job_parallel', default=10, type=int, help='number of jobs in parallel')\n",
        "    group7.add_argument('--logfolder', default=\"logfolder\", type=str, help='log folder location name')\n",
        "\n",
        "\n",
        "    #buffermil parameters\n",
        "    group8= parser.add_argument_group(\"submitit\")\n",
        "\n",
        "    group8.add_argument(\"--randomstore\", default=False,help=\"ramdom sampling during the buffer storage\")\n",
        "    group8.add_argument(\"--bufferaggregate\", default=\"mean\",choices=[\"mean\",\"max\",\"diffmax\"], help=\"type of buffer aggregation\")\n",
        "    group8.add_argument(\"--ntop\", default=10, help=\"number of patches stored in the buffer per each image\")\n",
        "    group8.add_argument('--buffer_freq',default=10, type=int, help='frequency to update the buffer')\n",
        "    filtered_args = [arg for arg in sys.argv if not arg.startswith('-f')]\n",
        "    args = parser.parse_args(filtered_args[2:])\n",
        "    return args"
      ]
    },
    {
      "cell_type": "code",
      "execution_count": 24,
      "metadata": {
        "colab": {
          "base_uri": "https://localhost:8080/"
        },
        "id": "A-SVOmf4xcIQ",
        "outputId": "1893d558-2f09-4c28-c235-424443c46735"
      },
      "outputs": [
        {
          "name": "stdout",
          "output_type": "stream",
          "text": [
            "Namespace(lr=0.0002, weight_decay=0.005, residual=False, num_layers=1, dropout=True, dropout_rate=0.2, layer_name='GAT', heads=3, seed=42, n_epoch=200, n_classes=1, c_hidden=384, input_size=384, scale='13', dataset='lung', datasetpath=None, lamb=1, beta=1, temperature=1.5, add_bias=True, max=True, checkpoint=None, tag='split', modeltype='DASMIL', project='decider-lunggeom', model='decider-geom', wandbname='lungmain', partition='prod', time=120, nodes=1, job_name='dasmil', mem=32, job_parallel=10, logfolder='logfolder', randomstore=False, bufferaggregate='mean', ntop=10, buffer_freq=10)\n"
          ]
        }
      ],
      "source": [
        "args= get_args()\n",
        "print(args)"
      ]
    },
    {
      "cell_type": "code",
      "execution_count": 25,
      "metadata": {},
      "outputs": [
        {
          "data": {
            "text/plain": [
              "2"
            ]
          },
          "execution_count": 25,
          "metadata": {},
          "output_type": "execute_result"
        }
      ],
      "source": [
        "len(args.scale)"
      ]
    },
    {
      "cell_type": "code",
      "execution_count": 84,
      "metadata": {
        "cellView": "form",
        "colab": {
          "base_uri": "https://localhost:8080/",
          "height": 84,
          "referenced_widgets": [
            "e1376b08a5ca41ad978d0580b8a346f7",
            "294cfe85793a4572b11970ab32b951fb",
            "d87d580e7dd5425b8e38239bc9f7ddcd"
          ]
        },
        "id": "_Vpuvd0xIHWk",
        "outputId": "a475c5a1-5c8f-4a70-9e92-7edf301c1dc0"
      },
      "outputs": [
        {
          "data": {
            "application/vnd.jupyter.widget-view+json": {
              "model_id": "e1376b08a5ca41ad978d0580b8a346f7",
              "version_major": 2,
              "version_minor": 0
            },
            "text/plain": [
              "Dropdown(description='Choose:', options=('DSMIL', 'ABMIL', 'MaxPooling', 'MeanPooling', 'TransMIL', 'Buffermil…"
            ]
          },
          "metadata": {},
          "output_type": "display_data"
        },
        {
          "name": "stdout",
          "output_type": "stream",
          "text": [
            "Selected: ABMIL\n",
            "Selected: MaxPooling\n"
          ]
        }
      ],
      "source": [
        "# @title Select Model\n",
        "import ipywidgets as widgets\n",
        "from IPython.display import display\n",
        "\n",
        "# Crea un menu a discesa\n",
        "dropdown = widgets.Dropdown(\n",
        "\n",
        "    options=['DSMIL', 'ABMIL', 'MaxPooling',\"MeanPooling\",\"TransMIL\",\"Buffermil\"],\n",
        "    value='DSMIL',\n",
        "    description='Choose:',\n",
        ")\n",
        "\n",
        "# Mostra il widget\n",
        "display(dropdown)\n",
        "\n",
        "# Recupera il valore selezionato\n",
        "def on_value_change(change):\n",
        "    print(f\"Selected: {change['new']}\")\n",
        "\n",
        "dropdown.observe(on_value_change, names='value')\n",
        "args.modeltype=dropdown.value"
      ]
    },
    {
      "cell_type": "code",
      "execution_count": 26,
      "metadata": {
        "colab": {
          "base_uri": "https://localhost:8080/"
        },
        "id": "deS1EoTF0G6A",
        "outputId": "7c513263-1ce4-4435-97a4-09b736ef0d8c"
      },
      "outputs": [
        {
          "name": "stdout",
          "output_type": "stream",
          "text": [
            "model DASMIL\n",
            "error loading\n",
            "Number of parameters: 2026628\n",
            "Memory usage: 0.033256448 GB\n"
          ]
        }
      ],
      "source": [
        "model=selectModel(args)\n",
        "model.kl=None"
      ]
    },
    {
      "cell_type": "code",
      "execution_count": 27,
      "metadata": {
        "cellView": "form",
        "id": "6gyKkA8kvQac"
      },
      "outputs": [],
      "source": [
        "# @title Training Method\n",
        "def train(model,train_loader,test_loader,args):\n",
        "   # Initialize wandb run\n",
        "    run = wandb.init(project=args.project,name=args.wandbname)\n",
        "    epochs = args.n_epoch\n",
        "    wd=args.weight_decay\n",
        "    lr=args.lr\n",
        "    model.train()\n",
        "    model = model.cuda()\n",
        "    loss_module_instance = BCEWithLogitsLoss()\n",
        "\n",
        "    optimizer = torch.optim.Adam(model.parameters(), lr=lr, betas=(\n",
        "        0.5, 0.9), weight_decay=wd)\n",
        "    scheduler = torch.optim.lr_scheduler.CosineAnnealingLR(optimizer, epochs, 0.000005)\n",
        "    # Test the initial model\n",
        "    with torch.no_grad():\n",
        "        start_test = time.time()\n",
        "        metrics = test(model, testloader=test_loader)\n",
        "        end_test = time.time()\n",
        "        avg_score_higher_test, avg_score_lower_test, auc_value_higher_test, auc_value_lower_test, predictions, _, labels = metrics\n",
        "\n",
        "        wandb.log({\n",
        "            \"acc_higher_test\": avg_score_higher_test,\n",
        "            \"acc_lower_test\": avg_score_lower_test,\n",
        "            \"auc_higher_test\": auc_value_higher_test,\n",
        "            \"epoch\": -1,\n",
        "            \"lr\": scheduler.get_last_lr()[0]\n",
        "        })\n",
        "    BestPerformance = 0\n",
        "    # Start training\n",
        "    for idx,epoch in tqdm.tqdm(enumerate(range(epochs)),desc=\"epochs\"):\n",
        "        start_training = time.time()\n",
        "        if hasattr(model,\"preloop\"):\n",
        "            model.preloop(epoch,train_loader)\n",
        "        # Iterate over the training data\n",
        "        for _, data in enumerate(train_loader):\n",
        "            model.train()\n",
        "            optimizer.zero_grad()\n",
        "            data = data.cuda()\n",
        "            x, edge_index, childof, level = data.x, data.edge_index, data.childof, data.level\n",
        "            # Check if additional edge indices are present\n",
        "            if data.__contains__(\"edge_index_2\") and data.__contains__(\"edge_index_3\"):\n",
        "                edge_index2, edge_index3 = data.edge_index_2, data.edge_index_3\n",
        "            else:\n",
        "                edge_index2 = None\n",
        "                edge_index3 = None\n",
        "\n",
        "            try:\n",
        "                results = model(x, edge_index, level, childof,edge_index2, edge_index3)\n",
        "            except:\n",
        "                continue\n",
        "            bag_label = data.y.float()\n",
        "            loss = model.compute_loss(loss_module_instance, results, bag_label)\n",
        "            wandb.log({\"loss\": loss})\n",
        "            loss.backward()\n",
        "            optimizer.step()\n",
        "        end_training = time.time()\n",
        "        scheduler.step()\n",
        "        start_test = time.time()\n",
        "        metrics = test(model, testloader=test_loader)\n",
        "        end_test = time.time()\n",
        "        avg_score_higher_test, avg_score_lower_test, auc_value_higher_test, auc_value_lower_test, predictions, _, labels = metrics\n",
        "\n",
        "        wandb.log({\n",
        "            \"acc_higher_test\": avg_score_higher_test,\n",
        "            \"acc_lower_test\": avg_score_lower_test,\n",
        "            \"auc_higher_test\": auc_value_higher_test,\n",
        "            \"epoch\": epoch,\n",
        "            \"lr\": scheduler.get_last_lr()[0]\n",
        "        })\n",
        "\n",
        "    wandb.finish()\n"
      ]
    },
    {
      "cell_type": "code",
      "execution_count": 28,
      "metadata": {
        "colab": {
          "base_uri": "https://localhost:8080/",
          "height": 717
        },
        "id": "oTV2Lel34bci",
        "outputId": "ea58585a-8b76-45c4-ddc2-84608f1bd3f5"
      },
      "outputs": [
        {
          "data": {
            "text/html": [
              "Tracking run with wandb version 0.18.7"
            ],
            "text/plain": [
              "<IPython.core.display.HTML object>"
            ]
          },
          "metadata": {},
          "output_type": "display_data"
        },
        {
          "data": {
            "text/html": [
              "Run data is saved locally in <code>e:\\postgraduate\\fuxian\\mil4wsi-main\\wandb\\run-20241123_142130-dwsn53p4</code>"
            ],
            "text/plain": [
              "<IPython.core.display.HTML object>"
            ]
          },
          "metadata": {},
          "output_type": "display_data"
        },
        {
          "data": {
            "text/html": [
              "Syncing run <strong><a href='https://wandb.ai/dzh030629-dalian-university-of-technology/decider-lunggeom/runs/dwsn53p4' target=\"_blank\">lungmain</a></strong> to <a href='https://wandb.ai/dzh030629-dalian-university-of-technology/decider-lunggeom' target=\"_blank\">Weights & Biases</a> (<a href='https://wandb.me/developer-guide' target=\"_blank\">docs</a>)<br/>"
            ],
            "text/plain": [
              "<IPython.core.display.HTML object>"
            ]
          },
          "metadata": {},
          "output_type": "display_data"
        },
        {
          "data": {
            "text/html": [
              " View project at <a href='https://wandb.ai/dzh030629-dalian-university-of-technology/decider-lunggeom' target=\"_blank\">https://wandb.ai/dzh030629-dalian-university-of-technology/decider-lunggeom</a>"
            ],
            "text/plain": [
              "<IPython.core.display.HTML object>"
            ]
          },
          "metadata": {},
          "output_type": "display_data"
        },
        {
          "data": {
            "text/html": [
              " View run at <a href='https://wandb.ai/dzh030629-dalian-university-of-technology/decider-lunggeom/runs/dwsn53p4' target=\"_blank\">https://wandb.ai/dzh030629-dalian-university-of-technology/decider-lunggeom/runs/dwsn53p4</a>"
            ],
            "text/plain": [
              "<IPython.core.display.HTML object>"
            ]
          },
          "metadata": {},
          "output_type": "display_data"
        },
        {
          "name": "stderr",
          "output_type": "stream",
          "text": [
            "epochs: 200it [1:44:16, 31.28s/it]\n"
          ]
        },
        {
          "data": {
            "text/html": [
              "\n",
              "    <style>\n",
              "        .wandb-row {\n",
              "            display: flex;\n",
              "            flex-direction: row;\n",
              "            flex-wrap: wrap;\n",
              "            justify-content: flex-start;\n",
              "            width: 100%;\n",
              "        }\n",
              "        .wandb-col {\n",
              "            display: flex;\n",
              "            flex-direction: column;\n",
              "            flex-basis: 100%;\n",
              "            flex: 1;\n",
              "            padding: 10px;\n",
              "        }\n",
              "    </style>\n",
              "<div class=\"wandb-row\"><div class=\"wandb-col\"><h3>Run history:</h3><br/><table class=\"wandb\"><tr><td>acc_higher_test</td><td>▁▆▇██▆█▇█▆▇▇▇▇▇▇▆▇▇▇▇▇▇▆▇▆▇▆▇▇▇▇▆▇▇▇▇▇▇▇</td></tr><tr><td>acc_lower_test</td><td>▁▁▁▁▁▁▁▁▁▁▁▁▁▁▁▁▁▁▁▁▁▁▁▁▁▁▁▁▁▁▁▁▁▁▁▁▁▁▁▁</td></tr><tr><td>auc_higher_test</td><td>▂▁█▇█▆█▇▇▇▇▇▇▇▇█▇▇█▇▇▇▇▇▇▆▇▇▇▇▇▆▆▆▆▆▆▆▆▆</td></tr><tr><td>epoch</td><td>▁▁▂▂▂▂▂▃▃▃▃▃▃▄▄▄▄▄▄▅▅▅▅▅▅▆▆▆▆▆▆▇▇▇▇▇▇███</td></tr><tr><td>loss</td><td>▇▄▂▃▂▁▂▂▁▁▁▅▁▂▁▁▁▁▁▁▁▁▁▇▁▁█▁▂▁▁▁▁▁▁▂▂▅▃▁</td></tr><tr><td>lr</td><td>████████▇▇▇▇▇▇▇▆▆▆▆▆▅▅▄▄▄▃▃▃▃▃▂▂▂▁▁▁▁▁▁▁</td></tr></table><br/></div><div class=\"wandb-col\"><h3>Run summary:</h3><br/><table class=\"wandb\"><tr><td>acc_higher_test</td><td>0.87264</td></tr><tr><td>acc_lower_test</td><td>0</td></tr><tr><td>auc_higher_test</td><td>0.93382</td></tr><tr><td>epoch</td><td>199</td></tr><tr><td>loss</td><td>0.0138</td></tr><tr><td>lr</td><td>1e-05</td></tr></table><br/></div></div>"
            ],
            "text/plain": [
              "<IPython.core.display.HTML object>"
            ]
          },
          "metadata": {},
          "output_type": "display_data"
        },
        {
          "data": {
            "text/html": [
              " View run <strong style=\"color:#cdcd00\">lungmain</strong> at: <a href='https://wandb.ai/dzh030629-dalian-university-of-technology/decider-lunggeom/runs/dwsn53p4' target=\"_blank\">https://wandb.ai/dzh030629-dalian-university-of-technology/decider-lunggeom/runs/dwsn53p4</a><br/> View project at: <a href='https://wandb.ai/dzh030629-dalian-university-of-technology/decider-lunggeom' target=\"_blank\">https://wandb.ai/dzh030629-dalian-university-of-technology/decider-lunggeom</a><br/>Synced 5 W&B file(s), 0 media file(s), 0 artifact file(s) and 0 other file(s)"
            ],
            "text/plain": [
              "<IPython.core.display.HTML object>"
            ]
          },
          "metadata": {},
          "output_type": "display_data"
        },
        {
          "data": {
            "text/html": [
              "Find logs at: <code>.\\wandb\\run-20241123_142130-dwsn53p4\\logs</code>"
            ],
            "text/plain": [
              "<IPython.core.display.HTML object>"
            ]
          },
          "metadata": {},
          "output_type": "display_data"
        }
      ],
      "source": [
        "# @title Start Training\n",
        "train(model,train_loader,test_loader,args)"
      ]
    }
  ],
  "metadata": {
    "accelerator": "GPU",
    "colab": {
      "gpuType": "T4",
      "provenance": []
    },
    "kernelspec": {
      "display_name": "Python 3",
      "name": "python3"
    },
    "language_info": {
      "codemirror_mode": {
        "name": "ipython",
        "version": 3
      },
      "file_extension": ".py",
      "mimetype": "text/x-python",
      "name": "python",
      "nbconvert_exporter": "python",
      "pygments_lexer": "ipython3",
      "version": "3.10.15"
    },
    "widgets": {
      "application/vnd.jupyter.widget-state+json": {
        "294cfe85793a4572b11970ab32b951fb": {
          "model_module": "@jupyter-widgets/base",
          "model_module_version": "1.2.0",
          "model_name": "LayoutModel",
          "state": {
            "_model_module": "@jupyter-widgets/base",
            "_model_module_version": "1.2.0",
            "_model_name": "LayoutModel",
            "_view_count": null,
            "_view_module": "@jupyter-widgets/base",
            "_view_module_version": "1.2.0",
            "_view_name": "LayoutView",
            "align_content": null,
            "align_items": null,
            "align_self": null,
            "border": null,
            "bottom": null,
            "display": null,
            "flex": null,
            "flex_flow": null,
            "grid_area": null,
            "grid_auto_columns": null,
            "grid_auto_flow": null,
            "grid_auto_rows": null,
            "grid_column": null,
            "grid_gap": null,
            "grid_row": null,
            "grid_template_areas": null,
            "grid_template_columns": null,
            "grid_template_rows": null,
            "height": null,
            "justify_content": null,
            "justify_items": null,
            "left": null,
            "margin": null,
            "max_height": null,
            "max_width": null,
            "min_height": null,
            "min_width": null,
            "object_fit": null,
            "object_position": null,
            "order": null,
            "overflow": null,
            "overflow_x": null,
            "overflow_y": null,
            "padding": null,
            "right": null,
            "top": null,
            "visibility": null,
            "width": null
          }
        },
        "d87d580e7dd5425b8e38239bc9f7ddcd": {
          "model_module": "@jupyter-widgets/controls",
          "model_module_version": "1.5.0",
          "model_name": "DescriptionStyleModel",
          "state": {
            "_model_module": "@jupyter-widgets/controls",
            "_model_module_version": "1.5.0",
            "_model_name": "DescriptionStyleModel",
            "_view_count": null,
            "_view_module": "@jupyter-widgets/base",
            "_view_module_version": "1.2.0",
            "_view_name": "StyleView",
            "description_width": ""
          }
        },
        "e1376b08a5ca41ad978d0580b8a346f7": {
          "model_module": "@jupyter-widgets/controls",
          "model_module_version": "1.5.0",
          "model_name": "DropdownModel",
          "state": {
            "_dom_classes": [],
            "_model_module": "@jupyter-widgets/controls",
            "_model_module_version": "1.5.0",
            "_model_name": "DropdownModel",
            "_options_labels": [
              "DSMIL",
              "ABMIL",
              "MaxPooling",
              "MeanPooling",
              "TransMIL",
              "Buffermil"
            ],
            "_view_count": null,
            "_view_module": "@jupyter-widgets/controls",
            "_view_module_version": "1.5.0",
            "_view_name": "DropdownView",
            "description": "Choose:",
            "description_tooltip": null,
            "disabled": false,
            "index": 2,
            "layout": "IPY_MODEL_294cfe85793a4572b11970ab32b951fb",
            "style": "IPY_MODEL_d87d580e7dd5425b8e38239bc9f7ddcd"
          }
        }
      }
    }
  },
  "nbformat": 4,
  "nbformat_minor": 0
}
